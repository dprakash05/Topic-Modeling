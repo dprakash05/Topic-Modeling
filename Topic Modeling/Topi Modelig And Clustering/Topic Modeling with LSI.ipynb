{
 "cells": [
  {
   "cell_type": "markdown",
   "metadata": {},
   "source": [
    "# Load and Pre-process Data"
   ]
  },
  {
   "cell_type": "code",
   "execution_count": 6,
   "metadata": {},
   "outputs": [
    {
     "name": "stderr",
     "output_type": "stream",
     "text": [
      "[nltk_data] Downloading package stopwords to C:\\Users\\Devdatta\n",
      "[nltk_data]     Supnekar\\AppData\\Roaming\\nltk_data...\n",
      "[nltk_data]   Package stopwords is already up-to-date!\n",
      "[nltk_data] Downloading package wordnet to C:\\Users\\Devdatta\n",
      "[nltk_data]     Supnekar\\AppData\\Roaming\\nltk_data...\n",
      "[nltk_data]   Package wordnet is already up-to-date!\n"
     ]
    }
   ],
   "source": [
    "import re\n",
    "import numpy as np\n",
    "import pandas as pd\n",
    "from pprint import pprint\n",
    "from tqdm import tqdm\n",
    "\n",
    "import nltk\n",
    "nltk.download('stopwords')\n",
    "nltk.download('wordnet')\n",
    "from nltk.corpus import stopwords\n",
    "\n",
    "import gensim\n",
    "import gensim.corpora as corpora\n",
    "from gensim.utils import simple_preprocess\n",
    "from gensim.models import CoherenceModel\n",
    "\n",
    "from sklearn.impute import SimpleImputer\n",
    "from sklearn.model_selection import train_test_split, GridSearchCV\n",
    "\n",
    "\n",
    "import pickle\n",
    "import spacy\n",
    "import ast\n",
    "\n",
    "import pyLDAvis\n",
    "import pyLDAvis.gensim  \n",
    "import seaborn as sns\n",
    "import matplotlib.pyplot as plt\n",
    "%matplotlib inline\n",
    "\n",
    "pd.set_option('display.max_rows', 800)\n",
    "pd.set_option('display.max_columns', 500)\n",
    "\n",
    "\n",
    "\n",
    "import warnings\n",
    "warnings.filterwarnings(\"ignore\",category=DeprecationWarning)"
   ]
  },
  {
   "cell_type": "code",
   "execution_count": 7,
   "metadata": {},
   "outputs": [
    {
     "data": {
      "text/html": [
       "<div>\n",
       "<style scoped>\n",
       "    .dataframe tbody tr th:only-of-type {\n",
       "        vertical-align: middle;\n",
       "    }\n",
       "\n",
       "    .dataframe tbody tr th {\n",
       "        vertical-align: top;\n",
       "    }\n",
       "\n",
       "    .dataframe thead th {\n",
       "        text-align: right;\n",
       "    }\n",
       "</style>\n",
       "<table border=\"1\" class=\"dataframe\">\n",
       "  <thead>\n",
       "    <tr style=\"text-align: right;\">\n",
       "      <th></th>\n",
       "      <th>category</th>\n",
       "      <th>text</th>\n",
       "    </tr>\n",
       "  </thead>\n",
       "  <tbody>\n",
       "    <tr>\n",
       "      <th>0</th>\n",
       "      <td>tech</td>\n",
       "      <td>tv future in the hands of viewers with home th...</td>\n",
       "    </tr>\n",
       "    <tr>\n",
       "      <th>1</th>\n",
       "      <td>business</td>\n",
       "      <td>worldcom boss  left books alone  former worldc...</td>\n",
       "    </tr>\n",
       "    <tr>\n",
       "      <th>2</th>\n",
       "      <td>sport</td>\n",
       "      <td>tigers wary of farrell  gamble  leicester say ...</td>\n",
       "    </tr>\n",
       "    <tr>\n",
       "      <th>3</th>\n",
       "      <td>sport</td>\n",
       "      <td>yeading face newcastle in fa cup premiership s...</td>\n",
       "    </tr>\n",
       "    <tr>\n",
       "      <th>4</th>\n",
       "      <td>entertainment</td>\n",
       "      <td>ocean s twelve raids box office ocean s twelve...</td>\n",
       "    </tr>\n",
       "  </tbody>\n",
       "</table>\n",
       "</div>"
      ],
      "text/plain": [
       "        category                                               text\n",
       "0           tech  tv future in the hands of viewers with home th...\n",
       "1       business  worldcom boss  left books alone  former worldc...\n",
       "2          sport  tigers wary of farrell  gamble  leicester say ...\n",
       "3          sport  yeading face newcastle in fa cup premiership s...\n",
       "4  entertainment  ocean s twelve raids box office ocean s twelve..."
      ]
     },
     "execution_count": 7,
     "metadata": {},
     "output_type": "execute_result"
    }
   ],
   "source": [
    "df = pd.read_csv(\"bbc-text.csv\")\n",
    "df.head()"
   ]
  },
  {
   "cell_type": "code",
   "execution_count": 8,
   "metadata": {},
   "outputs": [],
   "source": [
    "stop_words = stopwords.words('english')\n",
    "file = open(\"stopwords/extended_stopwords.txt\", \"r\")\n",
    "stop_words.extend([line.strip() for line in file.readlines()])\n",
    "file.close()\n",
    "file = open(\"stopwords/contractions.txt\", \"r\")\n",
    "contractions = ast.literal_eval(file.read())\n",
    "file.close()"
   ]
  },
  {
   "cell_type": "code",
   "execution_count": 9,
   "metadata": {},
   "outputs": [
    {
     "name": "stdout",
     "output_type": "stream",
     "text": [
      "['tech' 'business' 'sport' 'entertainment' 'politics']\n"
     ]
    }
   ],
   "source": [
    "print(df.category.unique())"
   ]
  },
  {
   "cell_type": "code",
   "execution_count": 10,
   "metadata": {},
   "outputs": [
    {
     "name": "stdout",
     "output_type": "stream",
     "text": [
      "2225\n"
     ]
    }
   ],
   "source": [
    "# Convert to list\n",
    "data = df.text.values.tolist()\n",
    "print(len(data))"
   ]
  },
  {
   "cell_type": "code",
   "execution_count": 12,
   "metadata": {
    "collapsed": true
   },
   "outputs": [
    {
     "name": "stdout",
     "output_type": "stream",
     "text": [
      "('tv future in the hands of viewers with home theatre systems plasma '\n",
      " 'high-definition tvs and digital video recorders moving into the living room '\n",
      " 'the way people watch tv will be radically different in five years time. that '\n",
      " 'is according to an expert panel which gathered at the annual consumer '\n",
      " 'electronics show in las vegas to discuss how these new technologies will '\n",
      " 'impact one of our favourite pastimes. with the us leading the trend '\n",
      " 'programmes and other content will be delivered to viewers via home networks '\n",
      " 'through cable satellite telecoms companies and broadband service providers '\n",
      " 'to front rooms and portable devices. one of the most talked-about '\n",
      " 'technologies of ces has been digital and personal video recorders (dvr and '\n",
      " 'pvr). these set-top boxes like the us s tivo and the uk s sky+ system allow '\n",
      " 'people to record store play pause and forward wind tv programmes when they '\n",
      " 'want. essentially the technology allows for much more personalised tv. they '\n",
      " 'are also being built-in to high-definition tv sets which are big business in '\n",
      " 'japan and the us but slower to take off in europe because of the lack of '\n",
      " 'high-definition programming. not only can people forward wind through '\n",
      " 'adverts they can also forget about abiding by network and channel schedules '\n",
      " 'putting together their own a-la-carte entertainment. but some us networks '\n",
      " 'and cable and satellite companies are worried about what it means for them '\n",
      " 'in terms of advertising revenues as well as brand identity and viewer '\n",
      " 'loyalty to channels. although the us leads in this technology at the moment '\n",
      " 'it is also a concern that is being raised in europe particularly with the '\n",
      " 'growing uptake of services like sky+. what happens here today we will see in '\n",
      " 'nine months to a years time in the uk adam hume the bbc broadcast s '\n",
      " 'futurologist told the bbc news website. for the likes of the bbc there are '\n",
      " 'no issues of lost advertising revenue yet. it is a more pressing issue at '\n",
      " 'the moment for commercial uk broadcasters but brand loyalty is important for '\n",
      " 'everyone. we will be talking more about content brands rather than network '\n",
      " 'brands said tim hanlon from brand communications firm starcom mediavest. the '\n",
      " 'reality is that with broadband connections anybody can be the producer of '\n",
      " 'content. he added: the challenge now is that it is hard to promote a '\n",
      " 'programme with so much choice. what this means said stacey jolna senior vice '\n",
      " 'president of tv guide tv group is that the way people find the content they '\n",
      " 'want to watch has to be simplified for tv viewers. it means that networks in '\n",
      " 'us terms or channels could take a leaf out of google s book and be the '\n",
      " 'search engine of the future instead of the scheduler to help people find '\n",
      " 'what they want to watch. this kind of channel model might work for the '\n",
      " 'younger ipod generation which is used to taking control of their gadgets and '\n",
      " 'what they play on them. but it might not suit everyone the panel recognised. '\n",
      " 'older generations are more comfortable with familiar schedules and channel '\n",
      " 'brands because they know what they are getting. they perhaps do not want so '\n",
      " 'much of the choice put into their hands mr hanlon suggested. on the other '\n",
      " 'end you have the kids just out of diapers who are pushing buttons already - '\n",
      " 'everything is possible and available to them said mr hanlon. ultimately the '\n",
      " 'consumer will tell the market they want. of the 50 000 new gadgets and '\n",
      " 'technologies being showcased at ces many of them are about enhancing the '\n",
      " 'tv-watching experience. high-definition tv sets are everywhere and many new '\n",
      " 'models of lcd (liquid crystal display) tvs have been launched with dvr '\n",
      " 'capability built into them instead of being external boxes. one such example '\n",
      " 'launched at the show is humax s 26-inch lcd tv with an 80-hour tivo dvr and '\n",
      " 'dvd recorder. one of the us s biggest satellite tv companies directtv has '\n",
      " 'even launched its own branded dvr at the show with 100-hours of recording '\n",
      " 'capability instant replay and a search function. the set can pause and '\n",
      " 'rewind tv for up to 90 hours. and microsoft chief bill gates announced in '\n",
      " 'his pre-show keynote speech a partnership with tivo called tivotogo which '\n",
      " 'means people can play recorded programmes on windows pcs and mobile devices. '\n",
      " 'all these reflect the increasing trend of freeing up multimedia so that '\n",
      " 'people can watch what they want when they want.')\n"
     ]
    }
   ],
   "source": [
    "\n",
    "# Remove Emails\n",
    "data = [re.sub('\\S*@\\S*\\s?', '', sent) for sent in data]\n",
    "\n",
    "# Remove new line characters\n",
    "data = [re.sub('\\s+', ' ', sent) for sent in data]\n",
    "\n",
    "# Remove distracting single quotes\n",
    "data = [re.sub(\"\\'\",\" \", sent) for sent in data]\n",
    "\n",
    "pprint(data[0])"
   ]
  },
  {
   "cell_type": "code",
   "execution_count": 14,
   "metadata": {
    "collapsed": true
   },
   "outputs": [
    {
     "name": "stdout",
     "output_type": "stream",
     "text": [
      "['tv', 'future', 'in', 'the', 'hands', 'of', 'viewers', 'with', 'home', 'theatre', 'systems', 'plasma', 'high', 'definition', 'tvs', 'and', 'digital', 'video', 'recorders', 'moving', 'into', 'the', 'living', 'room', 'the', 'way', 'people', 'watch', 'tv', 'will', 'be', 'radically', 'different', 'in', 'five', 'years', 'time', 'that', 'is', 'according', 'to', 'an', 'expert', 'panel', 'which', 'gathered', 'at', 'the', 'annual', 'consumer', 'electronics', 'show', 'in', 'las', 'vegas', 'to', 'discuss', 'how', 'these', 'new', 'technologies', 'will', 'impact', 'one', 'of', 'our', 'favourite', 'pastimes', 'with', 'the', 'us', 'leading', 'the', 'trend', 'programmes', 'and', 'other', 'content', 'will', 'be', 'delivered', 'to', 'viewers', 'via', 'home', 'networks', 'through', 'cable', 'satellite', 'telecoms', 'companies', 'and', 'broadband', 'service', 'providers', 'to', 'front', 'rooms', 'and', 'portable', 'devices', 'one', 'of', 'the', 'most', 'talked', 'about', 'technologies', 'of', 'ces', 'has', 'been', 'digital', 'and', 'personal', 'video', 'recorders', 'dvr', 'and', 'pvr', 'these', 'set', 'top', 'boxes', 'like', 'the', 'us', 'tivo', 'and', 'the', 'uk', 'sky', 'system', 'allow', 'people', 'to', 'record', 'store', 'play', 'pause', 'and', 'forward', 'wind', 'tv', 'programmes', 'when', 'they', 'want', 'essentially', 'the', 'technology', 'allows', 'for', 'much', 'more', 'personalised', 'tv', 'they', 'are', 'also', 'being', 'built', 'in', 'to', 'high', 'definition', 'tv', 'sets', 'which', 'are', 'big', 'business', 'in', 'japan', 'and', 'the', 'us', 'but', 'slower', 'to', 'take', 'off', 'in', 'europe', 'because', 'of', 'the', 'lack', 'of', 'high', 'definition', 'programming', 'not', 'only', 'can', 'people', 'forward', 'wind', 'through', 'adverts', 'they', 'can', 'also', 'forget', 'about', 'abiding', 'by', 'network', 'and', 'channel', 'schedules', 'putting', 'together', 'their', 'own', 'la', 'carte', 'entertainment', 'but', 'some', 'us', 'networks', 'and', 'cable', 'and', 'satellite', 'companies', 'are', 'worried', 'about', 'what', 'it', 'means', 'for', 'them', 'in', 'terms', 'of', 'advertising', 'revenues', 'as', 'well', 'as', 'brand', 'identity', 'and', 'viewer', 'loyalty', 'to', 'channels', 'although', 'the', 'us', 'leads', 'in', 'this', 'technology', 'at', 'the', 'moment', 'it', 'is', 'also', 'concern', 'that', 'is', 'being', 'raised', 'in', 'europe', 'particularly', 'with', 'the', 'growing', 'uptake', 'of', 'services', 'like', 'sky', 'what', 'happens', 'here', 'today', 'we', 'will', 'see', 'in', 'nine', 'months', 'to', 'years', 'time', 'in', 'the', 'uk', 'adam', 'hume', 'the', 'bbc', 'broadcast', 'futurologist', 'told', 'the', 'bbc', 'news', 'website', 'for', 'the', 'likes', 'of', 'the', 'bbc', 'there', 'are', 'no', 'issues', 'of', 'lost', 'advertising', 'revenue', 'yet', 'it', 'is', 'more', 'pressing', 'issue', 'at', 'the', 'moment', 'for', 'commercial', 'uk', 'broadcasters', 'but', 'brand', 'loyalty', 'is', 'important', 'for', 'everyone', 'we', 'will', 'be', 'talking', 'more', 'about', 'content', 'brands', 'rather', 'than', 'network', 'brands', 'said', 'tim', 'hanlon', 'from', 'brand', 'communications', 'firm', 'starcom', 'mediavest', 'the', 'reality', 'is', 'that', 'with', 'broadband', 'connections', 'anybody', 'can', 'be', 'the', 'producer', 'of', 'content', 'he', 'added', 'the', 'challenge', 'now', 'is', 'that', 'it', 'is', 'hard', 'to', 'promote', 'programme', 'with', 'so', 'much', 'choice', 'what', 'this', 'means', 'said', 'stacey', 'jolna', 'senior', 'vice', 'president', 'of', 'tv', 'guide', 'tv', 'group', 'is', 'that', 'the', 'way', 'people', 'find', 'the', 'content', 'they', 'want', 'to', 'watch', 'has', 'to', 'be', 'simplified', 'for', 'tv', 'viewers', 'it', 'means', 'that', 'networks', 'in', 'us', 'terms', 'or', 'channels', 'could', 'take', 'leaf', 'out', 'of', 'google', 'book', 'and', 'be', 'the', 'search', 'engine', 'of', 'the', 'future', 'instead', 'of', 'the', 'scheduler', 'to', 'help', 'people', 'find', 'what', 'they', 'want', 'to', 'watch', 'this', 'kind', 'of', 'channel', 'model', 'might', 'work', 'for', 'the', 'younger', 'ipod', 'generation', 'which', 'is', 'used', 'to', 'taking', 'control', 'of', 'their', 'gadgets', 'and', 'what', 'they', 'play', 'on', 'them', 'but', 'it', 'might', 'not', 'suit', 'everyone', 'the', 'panel', 'recognised', 'older', 'generations', 'are', 'more', 'comfortable', 'with', 'familiar', 'schedules', 'and', 'channel', 'brands', 'because', 'they', 'know', 'what', 'they', 'are', 'getting', 'they', 'perhaps', 'do', 'not', 'want', 'so', 'much', 'of', 'the', 'choice', 'put', 'into', 'their', 'hands', 'mr', 'hanlon', 'suggested', 'on', 'the', 'other', 'end', 'you', 'have', 'the', 'kids', 'just', 'out', 'of', 'diapers', 'who', 'are', 'pushing', 'buttons', 'already', 'everything', 'is', 'possible', 'and', 'available', 'to', 'them', 'said', 'mr', 'hanlon', 'ultimately', 'the', 'consumer', 'will', 'tell', 'the', 'market', 'they', 'want', 'of', 'the', 'new', 'gadgets', 'and', 'technologies', 'being', 'showcased', 'at', 'ces', 'many', 'of', 'them', 'are', 'about', 'enhancing', 'the', 'tv', 'watching', 'experience', 'high', 'definition', 'tv', 'sets', 'are', 'everywhere', 'and', 'many', 'new', 'models', 'of', 'lcd', 'liquid', 'crystal', 'display', 'tvs', 'have', 'been', 'launched', 'with', 'dvr', 'capability', 'built', 'into', 'them', 'instead', 'of', 'being', 'external', 'boxes', 'one', 'such', 'example', 'launched', 'at', 'the', 'show', 'is', 'humax', 'inch', 'lcd', 'tv', 'with', 'an', 'hour', 'tivo', 'dvr', 'and', 'dvd', 'recorder', 'one', 'of', 'the', 'us', 'biggest', 'satellite', 'tv', 'companies', 'directtv', 'has', 'even', 'launched', 'its', 'own', 'branded', 'dvr', 'at', 'the', 'show', 'with', 'hours', 'of', 'recording', 'capability', 'instant', 'replay', 'and', 'search', 'function', 'the', 'set', 'can', 'pause', 'and', 'rewind', 'tv', 'for', 'up', 'to', 'hours', 'and', 'microsoft', 'chief', 'bill', 'gates', 'announced', 'in', 'his', 'pre', 'show', 'keynote', 'speech', 'partnership', 'with', 'tivo', 'called', 'tivotogo', 'which', 'means', 'people', 'can', 'play', 'recorded', 'programmes', 'on', 'windows', 'pcs', 'and', 'mobile', 'devices', 'all', 'these', 'reflect', 'the', 'increasing', 'trend', 'of', 'freeing', 'up', 'multimedia', 'so', 'that', 'people', 'can', 'watch', 'what', 'they', 'want', 'when', 'they', 'want']\n"
     ]
    }
   ],
   "source": [
    "def sent_to_words(sentences):\n",
    "    for sentence in sentences:\n",
    "        yield(gensim.utils.simple_preprocess(str(sentence).encode('utf-8'), deacc=True))  # deacc=True removes punctuations\n",
    "\n",
    "data_words = list(sent_to_words(data))\n",
    "print(data_words[0])\n"
   ]
  },
  {
   "cell_type": "code",
   "execution_count": 15,
   "metadata": {},
   "outputs": [],
   "source": [
    "# Build the bigram and trigram models\n",
    "bigram = gensim.models.Phrases(data_words, min_count=5, threshold=100)# higher threshold fewer phrases.\n",
    "trigram = gensim.models.Phrases(bigram[data_words], threshold=100)  "
   ]
  },
  {
   "cell_type": "code",
   "execution_count": 16,
   "metadata": {},
   "outputs": [],
   "source": [
    "# Faster way to get a sentence clubbed as a trigram/bigram\n",
    "bigram_mod = gensim.models.phrases.Phraser(bigram)\n",
    "trigram_mod = gensim.models.phrases.Phraser(trigram)"
   ]
  },
  {
   "cell_type": "code",
   "execution_count": 17,
   "metadata": {
    "collapsed": true
   },
   "outputs": [
    {
     "name": "stdout",
     "output_type": "stream",
     "text": [
      "['tv', 'future', 'in', 'the', 'hands', 'of', 'viewers', 'with', 'home', 'theatre', 'systems', 'plasma', 'high_definition', 'tvs', 'and', 'digital', 'video_recorders', 'moving', 'into', 'the', 'living_room', 'the', 'way', 'people', 'watch', 'tv', 'will', 'be', 'radically', 'different', 'in', 'five', 'years', 'time', 'that', 'is', 'according', 'to', 'an', 'expert', 'panel', 'which', 'gathered', 'at', 'the', 'annual', 'consumer_electronics', 'show', 'in', 'las_vegas', 'to', 'discuss', 'how', 'these', 'new', 'technologies', 'will', 'impact', 'one', 'of', 'our', 'favourite', 'pastimes', 'with', 'the', 'us', 'leading', 'the', 'trend', 'programmes', 'and', 'other', 'content', 'will', 'be', 'delivered', 'to', 'viewers', 'via', 'home', 'networks', 'through', 'cable', 'satellite', 'telecoms', 'companies', 'and', 'broadband', 'service_providers', 'to', 'front', 'rooms', 'and', 'portable_devices', 'one', 'of', 'the', 'most', 'talked', 'about', 'technologies', 'of', 'ces', 'has', 'been', 'digital', 'and', 'personal', 'video_recorders', 'dvr', 'and', 'pvr', 'these', 'set', 'top_boxes', 'like', 'the', 'us', 'tivo', 'and', 'the', 'uk', 'sky', 'system', 'allow', 'people', 'to', 'record', 'store', 'play', 'pause', 'and', 'forward', 'wind', 'tv_programmes', 'when', 'they', 'want', 'essentially', 'the', 'technology', 'allows', 'for', 'much', 'more', 'personalised', 'tv', 'they', 'are', 'also', 'being', 'built', 'in', 'to', 'high_definition', 'tv', 'sets', 'which', 'are', 'big', 'business', 'in', 'japan', 'and', 'the', 'us', 'but', 'slower', 'to', 'take', 'off', 'in', 'europe', 'because', 'of', 'the', 'lack', 'of', 'high_definition', 'programming', 'not', 'only', 'can', 'people', 'forward', 'wind', 'through', 'adverts', 'they', 'can', 'also', 'forget', 'about', 'abiding', 'by', 'network', 'and', 'channel', 'schedules', 'putting', 'together', 'their', 'own', 'la', 'carte', 'entertainment', 'but', 'some', 'us', 'networks', 'and', 'cable', 'and', 'satellite', 'companies', 'are', 'worried', 'about', 'what', 'it', 'means', 'for', 'them', 'in', 'terms', 'of', 'advertising', 'revenues', 'as', 'well', 'as', 'brand', 'identity', 'and', 'viewer', 'loyalty', 'to', 'channels', 'although', 'the', 'us', 'leads', 'in', 'this', 'technology', 'at', 'the', 'moment', 'it', 'is', 'also', 'concern', 'that', 'is', 'being', 'raised', 'in', 'europe', 'particularly', 'with', 'the', 'growing', 'uptake', 'of', 'services', 'like', 'sky', 'what', 'happens', 'here', 'today', 'we', 'will', 'see', 'in', 'nine', 'months', 'to', 'years', 'time', 'in', 'the', 'uk', 'adam', 'hume', 'the', 'bbc', 'broadcast', 'futurologist', 'told', 'the', 'bbc_news', 'website', 'for', 'the', 'likes', 'of', 'the', 'bbc', 'there', 'are', 'no', 'issues', 'of', 'lost', 'advertising', 'revenue', 'yet', 'it', 'is', 'more', 'pressing', 'issue', 'at', 'the', 'moment', 'for', 'commercial', 'uk', 'broadcasters', 'but', 'brand', 'loyalty', 'is', 'important', 'for', 'everyone', 'we', 'will', 'be', 'talking', 'more', 'about', 'content', 'brands', 'rather_than', 'network', 'brands', 'said', 'tim', 'hanlon', 'from', 'brand', 'communications', 'firm', 'starcom', 'mediavest', 'the', 'reality', 'is', 'that', 'with', 'broadband', 'connections', 'anybody', 'can', 'be', 'the', 'producer', 'of', 'content', 'he', 'added', 'the', 'challenge', 'now', 'is', 'that', 'it', 'is', 'hard', 'to', 'promote', 'programme', 'with', 'so', 'much', 'choice', 'what', 'this', 'means', 'said', 'stacey', 'jolna', 'senior_vice', 'president', 'of', 'tv', 'guide', 'tv', 'group', 'is', 'that', 'the', 'way', 'people', 'find', 'the', 'content', 'they', 'want', 'to', 'watch', 'has', 'to', 'be', 'simplified', 'for', 'tv', 'viewers', 'it', 'means', 'that', 'networks', 'in', 'us', 'terms', 'or', 'channels', 'could', 'take', 'leaf', 'out', 'of', 'google', 'book', 'and', 'be', 'the', 'search_engine', 'of', 'the', 'future', 'instead', 'of', 'the', 'scheduler', 'to', 'help', 'people', 'find', 'what', 'they', 'want', 'to', 'watch', 'this', 'kind', 'of', 'channel', 'model', 'might', 'work', 'for', 'the', 'younger', 'ipod', 'generation', 'which', 'is', 'used', 'to', 'taking', 'control', 'of', 'their', 'gadgets', 'and', 'what', 'they', 'play', 'on', 'them', 'but', 'it', 'might', 'not', 'suit', 'everyone', 'the', 'panel', 'recognised', 'older', 'generations', 'are', 'more', 'comfortable', 'with', 'familiar', 'schedules', 'and', 'channel', 'brands', 'because', 'they', 'know', 'what', 'they', 'are', 'getting', 'they', 'perhaps', 'do', 'not', 'want', 'so', 'much', 'of', 'the', 'choice', 'put', 'into', 'their', 'hands', 'mr', 'hanlon', 'suggested', 'on', 'the', 'other', 'end', 'you', 'have', 'the', 'kids', 'just', 'out', 'of', 'diapers', 'who', 'are', 'pushing', 'buttons', 'already', 'everything', 'is', 'possible', 'and', 'available', 'to', 'them', 'said', 'mr', 'hanlon', 'ultimately', 'the', 'consumer', 'will', 'tell', 'the', 'market', 'they', 'want', 'of', 'the', 'new', 'gadgets', 'and', 'technologies', 'being', 'showcased', 'at', 'ces', 'many', 'of', 'them', 'are', 'about', 'enhancing', 'the', 'tv', 'watching', 'experience', 'high_definition', 'tv', 'sets', 'are', 'everywhere', 'and', 'many', 'new', 'models', 'of', 'lcd', 'liquid', 'crystal', 'display', 'tvs', 'have', 'been', 'launched', 'with', 'dvr', 'capability', 'built', 'into', 'them', 'instead', 'of', 'being', 'external', 'boxes', 'one', 'such', 'example', 'launched', 'at', 'the', 'show', 'is', 'humax', 'inch', 'lcd', 'tv', 'with', 'an', 'hour', 'tivo', 'dvr', 'and', 'dvd', 'recorder', 'one', 'of', 'the', 'us', 'biggest', 'satellite', 'tv', 'companies', 'directtv', 'has', 'even', 'launched', 'its', 'own', 'branded', 'dvr', 'at', 'the', 'show', 'with', 'hours', 'of', 'recording', 'capability', 'instant', 'replay', 'and', 'search', 'function', 'the', 'set', 'can', 'pause', 'and', 'rewind', 'tv', 'for', 'up', 'to', 'hours', 'and', 'microsoft', 'chief', 'bill_gates', 'announced', 'in', 'his', 'pre', 'show', 'keynote_speech', 'partnership', 'with', 'tivo', 'called', 'tivotogo', 'which', 'means', 'people', 'can', 'play', 'recorded', 'programmes', 'on', 'windows', 'pcs', 'and', 'mobile', 'devices', 'all', 'these', 'reflect', 'the', 'increasing', 'trend', 'of', 'freeing', 'up', 'multimedia', 'so', 'that', 'people', 'can', 'watch', 'what', 'they', 'want', 'when', 'they', 'want']\n"
     ]
    }
   ],
   "source": [
    "# See bigram example\n",
    "print(bigram_mod[data_words[0]])\n"
   ]
  },
  {
   "cell_type": "code",
   "execution_count": 18,
   "metadata": {},
   "outputs": [],
   "source": [
    "# Define functions for stopwords, bigrams, trigrams and lemmatization\n",
    "def remove_stopwords(texts):\n",
    "    return [[word for word in simple_preprocess(str(doc)) if word not in stop_words] for doc in texts]\n",
    "\n",
    "def make_bigrams(texts):\n",
    "    return [bigram_mod[doc] for doc in texts]\n",
    "\n",
    "def make_trigrams(texts):\n",
    "    return [trigram_mod[bigram_mod[doc]] for doc in texts]\n",
    "\n",
    "def lemmatization(texts, allowed_postags=['NOUN', 'ADJ', 'VERB', 'ADV']):\n",
    "    \"\"\"https://spacy.io/api/annotation\"\"\"\n",
    "    texts_out = []\n",
    "    for sent in texts:\n",
    "        doc = nlp(\" \".join(sent)) \n",
    "        texts_out.append([token.lemma_ for token in doc if token.pos_ in allowed_postags])\n",
    "    return texts_out"
   ]
  },
  {
   "cell_type": "code",
   "execution_count": 19,
   "metadata": {},
   "outputs": [],
   "source": [
    "# Remove Stop Words\n",
    "data_words_nostops = remove_stopwords(data_words)\n",
    "\n",
    "# Form Bigrams\n",
    "data_words_bigrams = make_bigrams(data_words_nostops)\n",
    "\n",
    "nlp = spacy.load('en_core_web_sm', disable=['parser', 'ner'])\n",
    "\n",
    "# Do lemmatization keeping only noun, adj, vb, adv\n",
    "data_lemmatized = lemmatization(data_words_bigrams, allowed_postags=['NOUN', 'ADJ', 'VERB', 'ADV'])"
   ]
  },
  {
   "cell_type": "code",
   "execution_count": 20,
   "metadata": {},
   "outputs": [
    {
     "name": "stdout",
     "output_type": "stream",
     "text": [
      "['tv', 'future', 'hand', 'viewer', 'theatre', 'system', 'plasma', 'tvs', 'digital', 'video_recorder', 'move', 'living_room', 'people', 'watch', 'tv', 'radically', 'year', 'time', 'expert', 'panel', 'gather', 'annual', 'consumer_electronic', 'las_vega', 'discuss', 'technology', 'impact', 'favourite', 'pastime', 'lead', 'trend', 'programme', 'content', 'deliver', 'viewer', 'network', 'cable', 'satellite', 'telecom', 'company', 'broadband', 'front', 'room', 'portable_device', 'talk', 'technology', 'ce', 'digital', 'personal', 'video_recorder']\n"
     ]
    }
   ],
   "source": [
    "print(data_lemmatized[0][:50])"
   ]
  },
  {
   "cell_type": "markdown",
   "metadata": {},
   "source": [
    "# Text Representation with Feature Engineering"
   ]
  },
  {
   "cell_type": "code",
   "execution_count": 21,
   "metadata": {},
   "outputs": [
    {
     "name": "stdout",
     "output_type": "stream",
     "text": [
      "Sample word to number mappings: [(0, 'abide'), (1, 'adam'), (2, 'advert'), (3, 'advertising'), (4, 'announce'), (5, 'annual'), (6, 'bbc'), (7, 'big'), (8, 'bill_gate'), (9, 'book'), (10, 'box'), (11, 'brand'), (12, 'broadband'), (13, 'broadcast'), (14, 'broadcaster')]\n",
      "Total Vocabulary Size: 22424\n"
     ]
    }
   ],
   "source": [
    "\n",
    "\n",
    "# Create a dictionary representation of the documents.\n",
    "dictionary = gensim.corpora.Dictionary(data_lemmatized)\n",
    "print('Sample word to number mappings:', list(dictionary.items())[:15])\n",
    "print('Total Vocabulary Size:', len(dictionary))"
   ]
  },
  {
   "cell_type": "code",
   "execution_count": 22,
   "metadata": {},
   "outputs": [
    {
     "name": "stdout",
     "output_type": "stream",
     "text": [
      "Total Vocabulary Size: 2287\n"
     ]
    }
   ],
   "source": [
    "# Filter out words that occur less than 20 documents, or more than 50% of the documents.\n",
    "dictionary.filter_extremes(no_below=20, no_above=0.6)\n",
    "print('Total Vocabulary Size:', len(dictionary))"
   ]
  },
  {
   "cell_type": "code",
   "execution_count": 23,
   "metadata": {},
   "outputs": [
    {
     "name": "stdout",
     "output_type": "stream",
     "text": [
      "[(7, 2), (20, 1), (25, 1), (46, 2), (66, 1), (76, 2), (82, 1), (94, 1), (121, 1), (136, 1), (137, 5), (138, 1), (139, 2), (140, 1), (141, 1), (142, 1), (143, 1), (144, 1), (145, 1), (146, 2), (147, 1), (148, 1), (149, 1), (150, 2), (151, 1), (152, 1), (153, 1), (154, 2), (155, 1), (156, 3), (157, 1), (158, 1), (159, 2), (160, 1), (161, 1), (162, 1), (163, 3), (164, 1), (165, 1), (166, 1), (167, 1), (168, 1), (169, 1), (170, 1), (171, 3), (172, 1), (173, 1), (174, 1), (175, 1), (176, 1)]\n"
     ]
    }
   ],
   "source": [
    "# Transforming corpus into bag of words vectors\n",
    "bow_corpus = [dictionary.doc2bow(text) for text in data_lemmatized]\n",
    "print(bow_corpus[1][:50])"
   ]
  },
  {
   "cell_type": "code",
   "execution_count": 24,
   "metadata": {},
   "outputs": [
    {
     "name": "stdout",
     "output_type": "stream",
     "text": [
      "[('book', 2), ('chief', 1), ('company', 1), ('firm', 2), ('increase', 1), ('lose', 2), ('month', 1), ('press', 1), ('telecom', 1), ('ability', 1), ('accounting', 5), ('accuse', 1), ('admit', 2), ('allegation', 1), ('argue', 1), ('ask', 1), ('aware', 1), ('bn', 1), ('boom', 1), ('boss', 2), ('card', 1), ('claim', 1), ('client', 1), ('collapse', 2), ('comment', 1), ('competition', 1), ('cross', 1), ('decision', 2), ('declare', 1), ('defence', 3), ('distance', 1), ('economist', 1), ('entry', 2), ('expect', 1), ('face', 1), ('false', 1), ('fraud', 3), ('guilty', 1), ('hide', 1), ('house', 1), ('investor', 1), ('job', 1), ('know', 1), ('late', 1), ('lawyer', 3), ('leave', 1), ('loss', 1), ('mount', 1), ('order', 1), ('phone', 1)]\n"
     ]
    }
   ],
   "source": [
    "print([(dictionary[idx] , freq) for idx, freq in bow_corpus[1][:50]])"
   ]
  },
  {
   "cell_type": "code",
   "execution_count": 26,
   "metadata": {},
   "outputs": [
    {
     "name": "stdout",
     "output_type": "stream",
     "text": [
      "Total number of text: 2225\n"
     ]
    }
   ],
   "source": [
    "print('Total number of text:', len(bow_corpus))"
   ]
  },
  {
   "cell_type": "markdown",
   "metadata": {},
   "source": [
    "# Topic Models with Latent Semantic Indexing (LSI)"
   ]
  },
  {
   "cell_type": "code",
   "execution_count": 33,
   "metadata": {},
   "outputs": [
    {
     "name": "stdout",
     "output_type": "stream",
     "text": [
      "Wall time: 1.53 s\n"
     ]
    }
   ],
   "source": [
    "# To run on single model \n",
    "\n",
    "%%time\n",
    "\n",
    "TOTAL_TOPICS = 5\n",
    "lsi_bow = gensim.models.LsiModel(bow_corpus, id2word=dictionary,chunksize=100, num_topics=TOTAL_TOPICS)"
   ]
  },
  {
   "cell_type": "code",
   "execution_count": 57,
   "metadata": {},
   "outputs": [],
   "source": [
    "gensim.models.lsimodel.LsiModel?"
   ]
  },
  {
   "cell_type": "code",
   "execution_count": 58,
   "metadata": {},
   "outputs": [],
   "source": [
    "def tune_model(dictionary, corpus, texts, limit, start=2, step=1):\n",
    "    \n",
    "    coherence_values = []\n",
    "    model_list = []\n",
    "    for num_topics in tqdm(range(start, limit, step)):\n",
    "        model = gensim.models.lsimodel.LsiModel(corpus=corpus, \n",
    "                                       id2word=dictionary, \n",
    "                                       num_topics=num_topics,\n",
    "#                                        onepass=True, \n",
    "                                       chunksize=100)\n",
    "        \n",
    "        model_list.append(model)\n",
    "        coherencemodel = CoherenceModel(model=model, texts=texts, dictionary=dictionary, coherence='c_v')\n",
    "        coherence_values.append(round(coherencemodel.get_coherence(),3))\n",
    "\n",
    "    return model_list, coherence_values"
   ]
  },
  {
   "cell_type": "code",
   "execution_count": 59,
   "metadata": {},
   "outputs": [
    {
     "name": "stderr",
     "output_type": "stream",
     "text": [
      "\n",
      "  0%|                                                                                            | 0/6 [00:00<?, ?it/s]\u001b[A\n",
      " 17%|██████████████                                                                      | 1/6 [00:15<01:17, 15.53s/it]\u001b[A\n",
      " 33%|████████████████████████████                                                        | 2/6 [00:30<01:01, 15.38s/it]\u001b[A\n",
      " 50%|██████████████████████████████████████████                                          | 3/6 [00:45<00:45, 15.18s/it]\u001b[A\n",
      " 67%|████████████████████████████████████████████████████████                            | 4/6 [01:00<00:30, 15.27s/it]\u001b[A\n",
      " 83%|██████████████████████████████████████████████████████████████████████              | 5/6 [01:17<00:15, 15.58s/it]\u001b[A\n",
      "100%|████████████████████████████████████████████████████████████████████████████████████| 6/6 [01:38<00:00, 16.35s/it]\u001b[A"
     ]
    },
    {
     "name": "stdout",
     "output_type": "stream",
     "text": [
      "Wall time: 1min 38s\n"
     ]
    },
    {
     "name": "stderr",
     "output_type": "stream",
     "text": [
      "\n"
     ]
    }
   ],
   "source": [
    "%%time\n",
    "\n",
    "# Can take a long time to run\n",
    "model_list, coherence_values = tune_model(dictionary=dictionary, corpus=bow_corpus, texts=data_lemmatized, start=2, limit=8, step=1)"
   ]
  },
  {
   "cell_type": "code",
   "execution_count": 60,
   "metadata": {},
   "outputs": [
    {
     "data": {
      "image/png": "[encoded data removed]",
      "text/plain": [
       "<Figure size 432x288 with 1 Axes>"
      ]
     },
     "metadata": {
      "needs_background": "light"
     },
     "output_type": "display_data"
    }
   ],
   "source": [
    "# Show graph\n",
    "limit=8; start=2; step=1;\n",
    "x = range(start, limit, step)\n",
    "plt.plot(x, coherence_values)\n",
    "plt.xlabel(\"Num Topics\")\n",
    "plt.ylabel(\"Coherence score\")\n",
    "plt.legend((\"coherence_values\"), loc='best')\n",
    "plt.show()"
   ]
  },
  {
   "cell_type": "code",
   "execution_count": 61,
   "metadata": {},
   "outputs": [
    {
     "name": "stdout",
     "output_type": "stream",
     "text": [
      "Num Topics = 2  has Coherence Value of 0.306\n",
      "Num Topics = 3  has Coherence Value of 0.365\n",
      "Num Topics = 4  has Coherence Value of 0.416\n",
      "Num Topics = 5  has Coherence Value of 0.455\n",
      "Num Topics = 6  has Coherence Value of 0.398\n",
      "Num Topics = 7  has Coherence Value of 0.404\n"
     ]
    }
   ],
   "source": [
    "# Print the coherence scores\n",
    "for m, cv in zip(x, coherence_values):\n",
    "    print(\"Num Topics =\", m, \" has Coherence Value of\", round(cv, 4))"
   ]
  },
  {
   "cell_type": "code",
   "execution_count": 62,
   "metadata": {},
   "outputs": [
    {
     "name": "stdout",
     "output_type": "stream",
     "text": [
      "[(0,\n",
      "  '0.320*\"people\" + 0.234*\"game\" + 0.193*\"time\" + 0.161*\"music\" + '\n",
      "  '0.161*\"government\" + 0.136*\"work\" + 0.131*\"play\" + 0.110*\"service\" + '\n",
      "  '0.109*\"company\" + 0.100*\"technology\"'),\n",
      " (1,\n",
      "  '-0.658*\"game\" + 0.254*\"government\" + -0.253*\"play\" + 0.158*\"labour\" + '\n",
      "  '0.139*\"people\" + 0.135*\"party\" + -0.122*\"player\" + -0.121*\"time\" + '\n",
      "  '0.107*\"increase\" + 0.102*\"pay\"'),\n",
      " (2,\n",
      "  '0.518*\"music\" + 0.325*\"song\" + -0.217*\"game\" + -0.180*\"government\" + '\n",
      "  '-0.174*\"labour\" + 0.169*\"mobile\" + -0.140*\"party\" + 0.133*\"technology\" + '\n",
      "  '0.103*\"digital\" + 0.103*\"service\"'),\n",
      " (3,\n",
      "  '-0.540*\"song\" + -0.255*\"music\" + -0.172*\"award\" + -0.169*\"vote\" + '\n",
      "  '0.164*\"technology\" + -0.164*\"british\" + 0.150*\"mobile\" + 0.140*\"service\" + '\n",
      "  '-0.138*\"win\" + -0.116*\"party\"'),\n",
      " (4,\n",
      "  '-0.430*\"increase\" + -0.407*\"pay\" + -0.253*\"business\" + -0.201*\"work\" + '\n",
      "  '-0.187*\"job\" + -0.180*\"song\" + -0.178*\"wage\" + -0.133*\"hour\" + '\n",
      "  '-0.124*\"employer\" + -0.124*\"earn\"')]\n"
     ]
    }
   ],
   "source": [
    "optimal_model = model_list[3]\n",
    "model_topics = optimal_model.show_topics(formatted=False)\n",
    "pprint(optimal_model.print_topics(num_words=10))"
   ]
  },
  {
   "cell_type": "code",
   "execution_count": 63,
   "metadata": {},
   "outputs": [
    {
     "name": "stdout",
     "output_type": "stream",
     "text": [
      "0::['people', 'game', 'time', 'music', 'government', 'work', 'play', 'service', 'company', 'technology']\n",
      "1::['game', 'government', 'play', 'labour', 'people', 'party', 'player', 'time', 'increase', 'pay']\n",
      "2::['music', 'song', 'game', 'government', 'labour', 'mobile', 'party', 'technology', 'digital', 'service']\n",
      "3::['song', 'music', 'award', 'vote', 'technology', 'british', 'mobile', 'service', 'win', 'party']\n",
      "4::['increase', 'pay', 'business', 'work', 'job', 'song', 'wage', 'hour', 'employer', 'earn']\n",
      "\n",
      "---------------------\n"
     ]
    }
   ],
   "source": [
    "x = optimal_model.show_topics(num_topics=5, num_words=10, formatted=False)\n",
    "topics_words = [(tp[0], [wd[0] for wd in tp[1]]) for tp in x]\n",
    "\n",
    "# Below Code Prints Topics and Words\n",
    "for topic, words in topics_words:\n",
    "    print(str(topic) + \"::\" + str(words))\n",
    "print()\n",
    "\n",
    "print(\"---------------------\")"
   ]
  },
  {
   "cell_type": "code",
   "execution_count": 64,
   "metadata": {},
   "outputs": [],
   "source": [
    "import operator\n",
    "from functools import reduce\n",
    "from collections import defaultdict\n",
    "\n",
    "def _document_topic_matrix(model, doc_term_matrix):\n",
    "\n",
    "    a = reduce(operator.concat, model[doc_term_matrix])\n",
    "    d = defaultdict(list)\n",
    "    for tup in a:\n",
    "        d[tup[0]] += (tup[1],)\n",
    "    df = pd.DataFrame.from_dict(d)\n",
    "    doc_topic_matrix = df.values\n",
    "    return doc_topic_matrix\n",
    "\n",
    "a = _document_topic_matrix(optimal_model, bow_corpus)"
   ]
  },
  {
   "cell_type": "code",
   "execution_count": 65,
   "metadata": {},
   "outputs": [
    {
     "data": {
      "text/plain": [
       "array([[10.06885308, -0.30198009,  4.56275138,  5.51599179,  0.40661574],\n",
       "       [ 1.88356887,  0.80256575, -0.46540799,  0.43862339, -0.02480479],\n",
       "       [ 1.90729647, -0.9801524 , -0.84371153, -0.25591819,  0.26965227],\n",
       "       ...,\n",
       "       [ 2.57002315, -0.44341208,  1.30557638, -1.34921432,  0.31550146],\n",
       "       [ 4.87535764,  1.25393226, -2.31445794, -1.43255806,  1.2684193 ],\n",
       "       [ 1.4990144 , -0.88797898, -0.65746143, -0.53285425,  0.01496946]])"
      ]
     },
     "execution_count": 65,
     "metadata": {},
     "output_type": "execute_result"
    }
   ],
   "source": [
    "a"
   ]
  },
  {
   "cell_type": "code",
   "execution_count": 85,
   "metadata": {},
   "outputs": [
    {
     "name": "stdout",
     "output_type": "stream",
     "text": [
      "[(0, 10.068853075095607), (1, -0.3019800885540224), (2, 4.562751377045158), (3, 5.515991791608627), (4, 0.4066157387552592)]\n",
      "[(0, 10.068853075095607), (3, 5.515991791608627), (2, 4.562751377045158), (4, 0.4066157387552592), (1, -0.3019800885540224)]\n",
      "0 topic:  0 prob_topic -0.3019800885540224\n",
      "wp:  [('people', 0.3199668067551834), ('game', 0.23361712132111034), ('time', 0.19277104668928277), ('music', 0.1614346650855123), ('government', 0.16087427413983885), ('work', 0.13589815279802844), ('play', 0.13095920665601019), ('service', 0.10980392265038691), ('company', 0.10916742469186534), ('technology', 0.1001407016196297)]\n",
      "people, game, time, music, government, work, play, service, company, technology\n",
      "1 topic:  3 prob_topic -0.3019800885540224\n"
     ]
    }
   ],
   "source": [
    "# Get main topic in each document\n",
    "for i, row in enumerate(optimal_model[bow_corpus]):\n",
    "    \n",
    "    sent_topics_df = pd.DataFrame()\n",
    "    \n",
    "    print(row)\n",
    "    row = sorted(row, key=lambda x: x[1], reverse=True)\n",
    "    print(row)\n",
    "    \n",
    "    for j, (topic_num, prop_topic) in enumerate(row):\n",
    "        print(j, \"topic: \", topic_num, \"prob_topic\", prob_topic)\n",
    "    \n",
    "        if j == 0:  # => dominant topic\n",
    "            wp = optimal_model.show_topic(topic_num)\n",
    "            print(\"wp: \", wp)\n",
    "            topic_keywords = \", \".join([word for word, prop in wp])\n",
    "            print(topic_keywords)\n",
    "            sent_topics_df = sent_topics_df.append(pd.Series([int(topic_num), round(prop_topic,4), topic_keywords]), ignore_index=True)\n",
    "        else:\n",
    "            break\n",
    "\n",
    "    \n",
    "    break"
   ]
  },
  {
   "cell_type": "code",
   "execution_count": 86,
   "metadata": {},
   "outputs": [
    {
     "data": {
      "text/html": [
       "<div>\n",
       "<style scoped>\n",
       "    .dataframe tbody tr th:only-of-type {\n",
       "        vertical-align: middle;\n",
       "    }\n",
       "\n",
       "    .dataframe tbody tr th {\n",
       "        vertical-align: top;\n",
       "    }\n",
       "\n",
       "    .dataframe thead th {\n",
       "        text-align: right;\n",
       "    }\n",
       "</style>\n",
       "<table border=\"1\" class=\"dataframe\">\n",
       "  <thead>\n",
       "    <tr style=\"text-align: right;\">\n",
       "      <th></th>\n",
       "      <th>0</th>\n",
       "      <th>1</th>\n",
       "      <th>2</th>\n",
       "    </tr>\n",
       "  </thead>\n",
       "  <tbody>\n",
       "    <tr>\n",
       "      <th>0</th>\n",
       "      <td>0.0</td>\n",
       "      <td>10.0689</td>\n",
       "      <td>people, game, time, music, government, work, p...</td>\n",
       "    </tr>\n",
       "  </tbody>\n",
       "</table>\n",
       "</div>"
      ],
      "text/plain": [
       "     0        1                                                  2\n",
       "0  0.0  10.0689  people, game, time, music, government, work, p..."
      ]
     },
     "execution_count": 86,
     "metadata": {},
     "output_type": "execute_result"
    }
   ],
   "source": [
    "sent_topics_df.head()"
   ]
  },
  {
   "cell_type": "code",
   "execution_count": 71,
   "metadata": {},
   "outputs": [
    {
     "data": {
      "text/html": [
       "<div>\n",
       "<style scoped>\n",
       "    .dataframe tbody tr th:only-of-type {\n",
       "        vertical-align: middle;\n",
       "    }\n",
       "\n",
       "    .dataframe tbody tr th {\n",
       "        vertical-align: top;\n",
       "    }\n",
       "\n",
       "    .dataframe thead th {\n",
       "        text-align: right;\n",
       "    }\n",
       "</style>\n",
       "<table border=\"1\" class=\"dataframe\">\n",
       "  <thead>\n",
       "    <tr style=\"text-align: right;\">\n",
       "      <th></th>\n",
       "      <th>Topic_No</th>\n",
       "      <th>Topic_Perc_Contrib</th>\n",
       "      <th>Topic_Keywords</th>\n",
       "      <th>Text</th>\n",
       "    </tr>\n",
       "  </thead>\n",
       "  <tbody>\n",
       "    <tr>\n",
       "      <th>0</th>\n",
       "      <td>0.0</td>\n",
       "      <td>10.0689</td>\n",
       "      <td>people, game, time, music, government, work, p...</td>\n",
       "      <td>tv future in the hands of viewers with home th...</td>\n",
       "    </tr>\n",
       "    <tr>\n",
       "      <th>1</th>\n",
       "      <td>0.0</td>\n",
       "      <td>1.8836</td>\n",
       "      <td>people, game, time, music, government, work, p...</td>\n",
       "      <td>worldcom boss left books alone former worldcom...</td>\n",
       "    </tr>\n",
       "    <tr>\n",
       "      <th>2</th>\n",
       "      <td>0.0</td>\n",
       "      <td>1.9073</td>\n",
       "      <td>people, game, time, music, government, work, p...</td>\n",
       "      <td>tigers wary of farrell gamble leicester say th...</td>\n",
       "    </tr>\n",
       "    <tr>\n",
       "      <th>3</th>\n",
       "      <td>0.0</td>\n",
       "      <td>2.3288</td>\n",
       "      <td>people, game, time, music, government, work, p...</td>\n",
       "      <td>yeading face newcastle in fa cup premiership s...</td>\n",
       "    </tr>\n",
       "    <tr>\n",
       "      <th>4</th>\n",
       "      <td>0.0</td>\n",
       "      <td>1.9713</td>\n",
       "      <td>people, game, time, music, government, work, p...</td>\n",
       "      <td>ocean s twelve raids box office ocean s twelve...</td>\n",
       "    </tr>\n",
       "    <tr>\n",
       "      <th>5</th>\n",
       "      <td>0.0</td>\n",
       "      <td>6.9026</td>\n",
       "      <td>people, game, time, music, government, work, p...</td>\n",
       "      <td>howard hits back at mongrel jibe michael howar...</td>\n",
       "    </tr>\n",
       "    <tr>\n",
       "      <th>6</th>\n",
       "      <td>0.0</td>\n",
       "      <td>3.1988</td>\n",
       "      <td>people, game, time, music, government, work, p...</td>\n",
       "      <td>blair prepares to name poll date tony blair is...</td>\n",
       "    </tr>\n",
       "    <tr>\n",
       "      <th>7</th>\n",
       "      <td>0.0</td>\n",
       "      <td>1.7906</td>\n",
       "      <td>people, game, time, music, government, work, p...</td>\n",
       "      <td>henman hopes ended in dubai third seed tim hen...</td>\n",
       "    </tr>\n",
       "    <tr>\n",
       "      <th>8</th>\n",
       "      <td>0.0</td>\n",
       "      <td>1.3725</td>\n",
       "      <td>people, game, time, music, government, work, p...</td>\n",
       "      <td>wilkinson fit to face edinburgh england captai...</td>\n",
       "    </tr>\n",
       "    <tr>\n",
       "      <th>9</th>\n",
       "      <td>0.0</td>\n",
       "      <td>1.4378</td>\n",
       "      <td>people, game, time, music, government, work, p...</td>\n",
       "      <td>last star wars not for children the sixth and ...</td>\n",
       "    </tr>\n",
       "  </tbody>\n",
       "</table>\n",
       "</div>"
      ],
      "text/plain": [
       "   Topic_No  Topic_Perc_Contrib  \\\n",
       "0       0.0             10.0689   \n",
       "1       0.0              1.8836   \n",
       "2       0.0              1.9073   \n",
       "3       0.0              2.3288   \n",
       "4       0.0              1.9713   \n",
       "5       0.0              6.9026   \n",
       "6       0.0              3.1988   \n",
       "7       0.0              1.7906   \n",
       "8       0.0              1.3725   \n",
       "9       0.0              1.4378   \n",
       "\n",
       "                                      Topic_Keywords  \\\n",
       "0  people, game, time, music, government, work, p...   \n",
       "1  people, game, time, music, government, work, p...   \n",
       "2  people, game, time, music, government, work, p...   \n",
       "3  people, game, time, music, government, work, p...   \n",
       "4  people, game, time, music, government, work, p...   \n",
       "5  people, game, time, music, government, work, p...   \n",
       "6  people, game, time, music, government, work, p...   \n",
       "7  people, game, time, music, government, work, p...   \n",
       "8  people, game, time, music, government, work, p...   \n",
       "9  people, game, time, music, government, work, p...   \n",
       "\n",
       "                                                Text  \n",
       "0  tv future in the hands of viewers with home th...  \n",
       "1  worldcom boss left books alone former worldcom...  \n",
       "2  tigers wary of farrell gamble leicester say th...  \n",
       "3  yeading face newcastle in fa cup premiership s...  \n",
       "4  ocean s twelve raids box office ocean s twelve...  \n",
       "5  howard hits back at mongrel jibe michael howar...  \n",
       "6  blair prepares to name poll date tony blair is...  \n",
       "7  henman hopes ended in dubai third seed tim hen...  \n",
       "8  wilkinson fit to face edinburgh england captai...  \n",
       "9  last star wars not for children the sixth and ...  "
      ]
     },
     "execution_count": 71,
     "metadata": {},
     "output_type": "execute_result"
    }
   ],
   "source": [
    "def format_topics_sentences(ldamodel=optimal_model, corpus=bow_corpus, texts=data):\n",
    "    # Init output\n",
    "    sent_topics_df = pd.DataFrame()\n",
    "\n",
    "    # Get main topic in each document\n",
    "    for i, row in enumerate(ldamodel[corpus]):\n",
    "\n",
    "        row = sorted(row, key=lambda x: x[1], reverse=True)\n",
    "        # Get the Dominant topic, Perc Contribution and Keywords for each document\n",
    "        for j, (topic_num, prop_topic) in enumerate(row):\n",
    "            if j == 0:  # => dominant topic\n",
    "                wp = ldamodel.show_topic(topic_num)\n",
    "                topic_keywords = \", \".join([word for word, prop in wp])\n",
    "                sent_topics_df = sent_topics_df.append(pd.Series([int(topic_num), round(prop_topic,4), topic_keywords]), ignore_index=True)\n",
    "            else:\n",
    "                break\n",
    "    sent_topics_df.columns = ['Dominant_Topic', 'Perc_Contribution', 'Topic_Keywords']\n",
    "\n",
    "    # Add original text to the end of the output\n",
    "    contents = pd.Series(texts)\n",
    "    sent_topics_df = pd.concat([sent_topics_df, contents], axis=1)\n",
    "    return(sent_topics_df)\n",
    "\n",
    "\n",
    "df_topic_sents_keywords = format_topics_sentences(ldamodel=optimal_model, corpus=bow_corpus, texts=data)\n",
    "\n",
    "# Format\n",
    "df_dominant_topic = df_topic_sents_keywords.reset_index()\n",
    "df_dominant_topic.columns = ['Document_No', 'Topic_No', 'Topic_Perc_Contrib', 'Topic_Keywords', 'Text']\n",
    "\n",
    "final_df = df_dominant_topic.drop(\"Document_No\", axis=1)\n",
    "\n",
    "# # add clean text Show\n",
    "# clean_text = [ \" \".join(i) for i in texts]\n",
    "# final_df[\"Clean_Text\"] = clean_text\n",
    "\n",
    "# show\n",
    "final_df.head(10)"
   ]
  },
  {
   "cell_type": "code",
   "execution_count": 72,
   "metadata": {},
   "outputs": [
    {
     "data": {
      "text/plain": [
       "0.0    2185\n",
       "2.0      31\n",
       "1.0       8\n",
       "3.0       1\n",
       "Name: Topic_No, dtype: int64"
      ]
     },
     "execution_count": 72,
     "metadata": {},
     "output_type": "execute_result"
    }
   ],
   "source": [
    "final_df[\"Topic_No\"].value_counts()"
   ]
  },
  {
   "cell_type": "code",
   "execution_count": 73,
   "metadata": {},
   "outputs": [
    {
     "data": {
      "text/plain": [
       "4.3812    3\n",
       "2.5013    3\n",
       "1.5943    3\n",
       "1.5928    3\n",
       "2.7270    2\n",
       "         ..\n",
       "4.5645    1\n",
       "7.5269    1\n",
       "7.3646    1\n",
       "4.4681    1\n",
       "4.0625    1\n",
       "Name: Topic_Perc_Contrib, Length: 2061, dtype: int64"
      ]
     },
     "execution_count": 73,
     "metadata": {},
     "output_type": "execute_result"
    }
   ],
   "source": [
    "final_df[\"Topic_Perc_Contrib\"].value_counts()"
   ]
  },
  {
   "cell_type": "code",
   "execution_count": null,
   "metadata": {},
   "outputs": [],
   "source": []
  },
  {
   "cell_type": "code",
   "execution_count": 87,
   "metadata": {},
   "outputs": [],
   "source": [
    "TOTAL_TOPICS = 5"
   ]
  },
  {
   "cell_type": "code",
   "execution_count": 89,
   "metadata": {},
   "outputs": [
    {
     "name": "stdout",
     "output_type": "stream",
     "text": [
      "Topic #1:\n",
      "==================================================\n",
      "Direction 1: [('people', 0.32), ('game', 0.234), ('time', 0.193), ('music', 0.161), ('government', 0.161), ('work', 0.136), ('play', 0.131), ('service', 0.11), ('company', 0.109), ('technology', 0.1), ('good', 0.098), ('call', 0.094), ('film', 0.091), ('party', 0.091), ('firm', 0.09), ('win', 0.09), ('labour', 0.09), ('number', 0.089), ('player', 0.088), ('increase', 0.087)]\n",
      "--------------------------------------------------\n",
      "Direction 2: []\n",
      "--------------------------------------------------\n",
      "\n",
      "Topic #2:\n",
      "==================================================\n",
      "Direction 1: [('government', 0.254), ('labour', 0.158), ('people', 0.139), ('party', 0.135), ('increase', 0.107), ('pay', 0.102), ('plan', 0.091), ('election', 0.084), ('country', 0.08), ('blair', 0.079), ('tory', 0.066)]\n",
      "--------------------------------------------------\n",
      "Direction 2: [('game', -0.658), ('play', -0.253), ('player', -0.122), ('time', -0.121), ('gaming', -0.101), ('win', -0.084), ('online', -0.076), ('title', -0.07), ('hour', -0.068)]\n",
      "--------------------------------------------------\n",
      "\n",
      "Topic #3:\n",
      "==================================================\n",
      "Direction 1: [('music', 0.518), ('song', 0.325), ('mobile', 0.169), ('technology', 0.133), ('digital', 0.103), ('service', 0.103), ('tv', 0.101), ('award', 0.1), ('people', 0.096), ('user', 0.096), ('network', 0.095), ('phone', 0.09)]\n",
      "--------------------------------------------------\n",
      "Direction 2: [('game', -0.217), ('government', -0.18), ('labour', -0.174), ('party', -0.14), ('election', -0.09), ('wale', -0.089), ('blair', -0.086), ('england', -0.08)]\n",
      "--------------------------------------------------\n",
      "\n",
      "Topic #4:\n",
      "==================================================\n",
      "Direction 1: [('technology', 0.164), ('mobile', 0.15), ('service', 0.14), ('user', 0.11), ('network', 0.109), ('company', 0.108), ('firm', 0.106), ('phone', 0.101), ('net', 0.096)]\n",
      "--------------------------------------------------\n",
      "Direction 2: [('song', -0.54), ('music', -0.255), ('award', -0.172), ('vote', -0.169), ('british', -0.164), ('win', -0.138), ('party', -0.116), ('labour', -0.109), ('good', -0.103), ('black', -0.099), ('deserve', -0.098)]\n",
      "--------------------------------------------------\n",
      "\n",
      "Topic #5:\n",
      "==================================================\n",
      "Direction 1: [('party', 0.116), ('terrorist', 0.115), ('threat', 0.102), ('music', 0.082)]\n",
      "--------------------------------------------------\n",
      "Direction 2: [('increase', -0.43), ('pay', -0.407), ('business', -0.253), ('work', -0.201), ('job', -0.187), ('song', -0.18), ('wage', -0.178), ('hour', -0.133), ('employer', -0.124), ('earn', -0.124), ('low', -0.112), ('worker', -0.101), ('level', -0.1), ('cost', -0.091), ('tax', -0.089), ('rate', -0.089)]\n",
      "--------------------------------------------------\n",
      "\n"
     ]
    }
   ],
   "source": [
    "for n in range(TOTAL_TOPICS):\n",
    "    print('Topic #'+str(n+1)+':')\n",
    "    print('='*50)\n",
    "    d1 = []\n",
    "    d2 = []\n",
    "    for term, wt in optimal_model.show_topic(n, topn=20):\n",
    "        if wt >= 0:\n",
    "            d1.append((term, round(wt, 3)))\n",
    "        else:\n",
    "            d2.append((term, round(wt, 3)))\n",
    "\n",
    "    print('Direction 1:', d1)\n",
    "    print('-'*50)\n",
    "    print('Direction 2:', d2)\n",
    "    print('-'*50)\n",
    "    print()\n",
    "    "
   ]
  },
  {
   "cell_type": "code",
   "execution_count": 91,
   "metadata": {},
   "outputs": [],
   "source": [
    "optimal_model.projection?"
   ]
  },
  {
   "cell_type": "code",
   "execution_count": 92,
   "metadata": {},
   "outputs": [
    {
     "data": {
      "text/plain": [
       "((2287, 5), (5,), (5, 2225))"
      ]
     },
     "execution_count": 92,
     "metadata": {},
     "output_type": "execute_result"
    }
   ],
   "source": [
    "term_topic = optimal_model.projection.u\n",
    "singular_values = optimal_model.projection.s\n",
    "topic_document = (gensim.matutils.corpus2dense(optimal_model[bow_corpus], len(singular_values)).T / singular_values).T\n",
    "term_topic.shape, singular_values.shape, topic_document.shape"
   ]
  },
  {
   "cell_type": "code",
   "execution_count": null,
   "metadata": {},
   "outputs": [],
   "source": []
  },
  {
   "cell_type": "code",
   "execution_count": 93,
   "metadata": {},
   "outputs": [
    {
     "data": {
      "text/html": [
       "<div>\n",
       "<style scoped>\n",
       "    .dataframe tbody tr th:only-of-type {\n",
       "        vertical-align: middle;\n",
       "    }\n",
       "\n",
       "    .dataframe tbody tr th {\n",
       "        vertical-align: top;\n",
       "    }\n",
       "\n",
       "    .dataframe thead th {\n",
       "        text-align: right;\n",
       "    }\n",
       "</style>\n",
       "<table border=\"1\" class=\"dataframe\">\n",
       "  <thead>\n",
       "    <tr style=\"text-align: right;\">\n",
       "      <th></th>\n",
       "      <th>T1</th>\n",
       "      <th>T2</th>\n",
       "      <th>T3</th>\n",
       "      <th>T4</th>\n",
       "      <th>T5</th>\n",
       "    </tr>\n",
       "  </thead>\n",
       "  <tbody>\n",
       "    <tr>\n",
       "      <th>0</th>\n",
       "      <td>0.044</td>\n",
       "      <td>-0.002</td>\n",
       "      <td>0.039</td>\n",
       "      <td>0.052</td>\n",
       "      <td>0.005</td>\n",
       "    </tr>\n",
       "    <tr>\n",
       "      <th>1</th>\n",
       "      <td>0.008</td>\n",
       "      <td>0.006</td>\n",
       "      <td>-0.004</td>\n",
       "      <td>0.004</td>\n",
       "      <td>-0.000</td>\n",
       "    </tr>\n",
       "    <tr>\n",
       "      <th>2</th>\n",
       "      <td>0.008</td>\n",
       "      <td>-0.007</td>\n",
       "      <td>-0.007</td>\n",
       "      <td>-0.002</td>\n",
       "      <td>0.003</td>\n",
       "    </tr>\n",
       "    <tr>\n",
       "      <th>3</th>\n",
       "      <td>0.010</td>\n",
       "      <td>-0.019</td>\n",
       "      <td>-0.017</td>\n",
       "      <td>-0.009</td>\n",
       "      <td>0.006</td>\n",
       "    </tr>\n",
       "    <tr>\n",
       "      <th>4</th>\n",
       "      <td>0.009</td>\n",
       "      <td>-0.005</td>\n",
       "      <td>-0.003</td>\n",
       "      <td>-0.001</td>\n",
       "      <td>0.007</td>\n",
       "    </tr>\n",
       "    <tr>\n",
       "      <th>5</th>\n",
       "      <td>0.030</td>\n",
       "      <td>0.033</td>\n",
       "      <td>-0.046</td>\n",
       "      <td>-0.035</td>\n",
       "      <td>0.020</td>\n",
       "    </tr>\n",
       "    <tr>\n",
       "      <th>6</th>\n",
       "      <td>0.014</td>\n",
       "      <td>0.022</td>\n",
       "      <td>-0.022</td>\n",
       "      <td>-0.010</td>\n",
       "      <td>0.008</td>\n",
       "    </tr>\n",
       "    <tr>\n",
       "      <th>7</th>\n",
       "      <td>0.008</td>\n",
       "      <td>-0.009</td>\n",
       "      <td>-0.009</td>\n",
       "      <td>-0.005</td>\n",
       "      <td>0.001</td>\n",
       "    </tr>\n",
       "    <tr>\n",
       "      <th>8</th>\n",
       "      <td>0.006</td>\n",
       "      <td>-0.010</td>\n",
       "      <td>-0.008</td>\n",
       "      <td>-0.003</td>\n",
       "      <td>0.003</td>\n",
       "    </tr>\n",
       "    <tr>\n",
       "      <th>9</th>\n",
       "      <td>0.006</td>\n",
       "      <td>-0.002</td>\n",
       "      <td>-0.000</td>\n",
       "      <td>-0.000</td>\n",
       "      <td>0.010</td>\n",
       "    </tr>\n",
       "    <tr>\n",
       "      <th>10</th>\n",
       "      <td>0.013</td>\n",
       "      <td>-0.004</td>\n",
       "      <td>0.003</td>\n",
       "      <td>-0.003</td>\n",
       "      <td>0.013</td>\n",
       "    </tr>\n",
       "    <tr>\n",
       "      <th>11</th>\n",
       "      <td>0.007</td>\n",
       "      <td>0.005</td>\n",
       "      <td>-0.000</td>\n",
       "      <td>0.004</td>\n",
       "      <td>-0.002</td>\n",
       "    </tr>\n",
       "    <tr>\n",
       "      <th>12</th>\n",
       "      <td>0.013</td>\n",
       "      <td>0.006</td>\n",
       "      <td>-0.004</td>\n",
       "      <td>0.006</td>\n",
       "      <td>-0.011</td>\n",
       "    </tr>\n",
       "    <tr>\n",
       "      <th>13</th>\n",
       "      <td>0.009</td>\n",
       "      <td>0.008</td>\n",
       "      <td>-0.014</td>\n",
       "      <td>-0.011</td>\n",
       "      <td>0.013</td>\n",
       "    </tr>\n",
       "    <tr>\n",
       "      <th>14</th>\n",
       "      <td>0.019</td>\n",
       "      <td>-0.026</td>\n",
       "      <td>-0.015</td>\n",
       "      <td>-0.012</td>\n",
       "      <td>-0.008</td>\n",
       "    </tr>\n",
       "  </tbody>\n",
       "</table>\n",
       "</div>"
      ],
      "text/plain": [
       "       T1     T2     T3     T4     T5\n",
       "0   0.044 -0.002  0.039  0.052  0.005\n",
       "1   0.008  0.006 -0.004  0.004 -0.000\n",
       "2   0.008 -0.007 -0.007 -0.002  0.003\n",
       "3   0.010 -0.019 -0.017 -0.009  0.006\n",
       "4   0.009 -0.005 -0.003 -0.001  0.007\n",
       "5   0.030  0.033 -0.046 -0.035  0.020\n",
       "6   0.014  0.022 -0.022 -0.010  0.008\n",
       "7   0.008 -0.009 -0.009 -0.005  0.001\n",
       "8   0.006 -0.010 -0.008 -0.003  0.003\n",
       "9   0.006 -0.002 -0.000 -0.000  0.010\n",
       "10  0.013 -0.004  0.003 -0.003  0.013\n",
       "11  0.007  0.005 -0.000  0.004 -0.002\n",
       "12  0.013  0.006 -0.004  0.006 -0.011\n",
       "13  0.009  0.008 -0.014 -0.011  0.013\n",
       "14  0.019 -0.026 -0.015 -0.012 -0.008"
      ]
     },
     "execution_count": 93,
     "metadata": {},
     "output_type": "execute_result"
    }
   ],
   "source": [
    "document_topics = pd.DataFrame(np.round(topic_document.T, 3), \n",
    "                               columns=['T'+str(i) for i in range(1, TOTAL_TOPICS+1)])\n",
    "document_topics.head(15)"
   ]
  },
  {
   "cell_type": "markdown",
   "metadata": {},
   "source": [
    "# Predicting Topics for New Data"
   ]
  },
  {
   "cell_type": "code",
   "execution_count": 142,
   "metadata": {},
   "outputs": [
    {
     "data": {
      "text/html": [
       "<div>\n",
       "<style scoped>\n",
       "    .dataframe tbody tr th:only-of-type {\n",
       "        vertical-align: middle;\n",
       "    }\n",
       "\n",
       "    .dataframe tbody tr th {\n",
       "        vertical-align: top;\n",
       "    }\n",
       "\n",
       "    .dataframe thead th {\n",
       "        text-align: right;\n",
       "    }\n",
       "</style>\n",
       "<table border=\"1\" class=\"dataframe\">\n",
       "  <thead>\n",
       "    <tr style=\"text-align: right;\">\n",
       "      <th></th>\n",
       "      <th>Unnamed: 0</th>\n",
       "      <th>Session_id</th>\n",
       "      <th>Text</th>\n",
       "    </tr>\n",
       "  </thead>\n",
       "  <tbody>\n",
       "    <tr>\n",
       "      <th>0</th>\n",
       "      <td>0</td>\n",
       "      <td>BillPay call with no PII</td>\n",
       "      <td>Welcome to Vodafone, here speaking. May I get ...</td>\n",
       "    </tr>\n",
       "    <tr>\n",
       "      <th>1</th>\n",
       "      <td>1</td>\n",
       "      <td>BillPay call with no PII</td>\n",
       "      <td>it. What what is the error message you're gett...</td>\n",
       "    </tr>\n",
       "    <tr>\n",
       "      <th>2</th>\n",
       "      <td>2</td>\n",
       "      <td>BillPay call with no PII</td>\n",
       "      <td>code. Okay, let me just double-check. Hold on....</td>\n",
       "    </tr>\n",
       "    <tr>\n",
       "      <th>3</th>\n",
       "      <td>3</td>\n",
       "      <td>BillPay call with no PII</td>\n",
       "      <td>8080. No problem at all. Here is the PIN code ...</td>\n",
       "    </tr>\n",
       "    <tr>\n",
       "      <th>4</th>\n",
       "      <td>4</td>\n",
       "      <td>BillPay call with no PII</td>\n",
       "      <td>That's perfect. No worries at all. Hold on. Ju...</td>\n",
       "    </tr>\n",
       "  </tbody>\n",
       "</table>\n",
       "</div>"
      ],
      "text/plain": [
       "   Unnamed: 0                Session_id  \\\n",
       "0           0  BillPay call with no PII   \n",
       "1           1  BillPay call with no PII   \n",
       "2           2  BillPay call with no PII   \n",
       "3           3  BillPay call with no PII   \n",
       "4           4  BillPay call with no PII   \n",
       "\n",
       "                                                Text  \n",
       "0  Welcome to Vodafone, here speaking. May I get ...  \n",
       "1  it. What what is the error message you're gett...  \n",
       "2  code. Okay, let me just double-check. Hold on....  \n",
       "3  8080. No problem at all. Here is the PIN code ...  \n",
       "4  That's perfect. No worries at all. Hold on. Ju...  "
      ]
     },
     "execution_count": 142,
     "metadata": {},
     "output_type": "execute_result"
    }
   ],
   "source": [
    "df_test = pd.read_csv(\"1st_Input_df_for_tm.csv\")\n",
    "df_test.head()"
   ]
  },
  {
   "cell_type": "code",
   "execution_count": 208,
   "metadata": {},
   "outputs": [],
   "source": [
    "def clean_pipeline(df_test):    \n",
    "    text_data = df_test.Text.values.tolist()\n",
    "    print(\"[INFO] Total Document Before cleaning: \", len(text_data))\n",
    "\n",
    "    data = [re.sub('\\S*@\\S*\\s?', '', sent) for sent in text_data]\n",
    "    data = [re.sub('\\s+', ' ', sent) for sent in data]\n",
    "    data = [re.sub(\"\\'\",\" \", sent) for sent in data]\n",
    "    \n",
    "    data_words = list(sent_to_words(data))\n",
    "    data_words_nostops = remove_stopwords(data_words)\n",
    "    data_words_bigrams = make_bigrams(data_words_nostops)\n",
    "\n",
    "    nlp = spacy.load('en_core_web_sm', disable=['parser', 'ner'])\n",
    "    data_lemmatized = lemmatization(data_words_bigrams, allowed_postags=['NOUN', 'ADJ', 'VERB', 'ADV'])\n",
    "    \n",
    "    \n",
    "    # check empty vocab and delete \n",
    "    empty = 0\n",
    "    empty_idx = []\n",
    "    empty_doc = []\n",
    "#     for idx, (raw , clean) in enumerate(zip(text_data, data_lemmatized)):                                       \n",
    "#         doc = \" \".join(clean)\n",
    "#         if len(doc) == 0:                            \n",
    "#             empty += 1\n",
    "#             empty_idx.append(idx)\n",
    "#             empty_doc.append(raw)\n",
    "                \n",
    "#             del text_data[idx]\n",
    "#             del data_lemmatized[idx]\n",
    "            \n",
    "                                    \n",
    "                                        \n",
    "                                        \n",
    "    print(\"[INFO] Totoal Empty Document: \", empty)\n",
    "    print(\"[INFO] Empty Vocab idx: \", empty_idx)\n",
    "    \n",
    "    # remove empty vocab texts as wll as lemmatized text\n",
    "\n",
    "\n",
    "    print(\"[INFO] Total Document Valid Documents cleaning: \", len(data_lemmatized))\n",
    "    return data_lemmatized, text_data, empty_doc"
   ]
  },
  {
   "cell_type": "code",
   "execution_count": null,
   "metadata": {},
   "outputs": [],
   "source": []
  },
  {
   "cell_type": "code",
   "execution_count": 209,
   "metadata": {},
   "outputs": [
    {
     "name": "stdout",
     "output_type": "stream",
     "text": [
      "[INFO] Total Document Before cleaning:  46\n",
      "[INFO] Totoal Empty Document:  0\n",
      "[INFO] Empty Vocab idx:  []\n",
      "[INFO] Total Document Valid Documents cleaning:  46\n"
     ]
    }
   ],
   "source": [
    "clean_data, raw_data, empty_raw = clean_pipeline(df_test)"
   ]
  },
  {
   "cell_type": "code",
   "execution_count": null,
   "metadata": {},
   "outputs": [],
   "source": [
    "del text_data[13]"
   ]
  },
  {
   "cell_type": "code",
   "execution_count": 183,
   "metadata": {},
   "outputs": [
    {
     "data": {
      "text/plain": [
       "46"
      ]
     },
     "execution_count": 183,
     "metadata": {},
     "output_type": "execute_result"
    }
   ],
   "source": [
    "len(text_data)"
   ]
  },
  {
   "cell_type": "code",
   "execution_count": 167,
   "metadata": {},
   "outputs": [
    {
     "data": {
      "text/plain": [
       "[]"
      ]
     },
     "execution_count": 167,
     "metadata": {},
     "output_type": "execute_result"
    }
   ],
   "source": [
    "test_data[13]"
   ]
  },
  {
   "cell_type": "code",
   "execution_count": 210,
   "metadata": {},
   "outputs": [
    {
     "name": "stdout",
     "output_type": "stream",
     "text": [
      "0 ------------------------------\n",
      "raw:  Welcome to Vodafone, here speaking. May I get your name, please? How can I help\n",
      "clean:  vodafone speak\n",
      "len 14\n",
      "\n",
      "1 ------------------------------\n",
      "raw:  it. What what is the error message you're getting actually\n",
      "clean:  error message\n",
      "len 13\n",
      "\n",
      "2 ------------------------------\n",
      "raw:  code. Okay, let me just double-check. Hold on. The average payments every month\n",
      "clean:  code double check hold average payment\n",
      "len 38\n",
      "\n",
      "3 ------------------------------\n",
      "raw:  8080. No problem at all. Here is the PIN code for the security of the accounts next time. This might be just handy for you. Okay, and do you have access to the online account as well? My\n",
      "clean:  problem pin code security account time handy access online account\n",
      "len 66\n",
      "\n",
      "4 ------------------------------\n",
      "raw:  That's perfect. No worries at all. Hold on. Just 1 second. What type of phone you have\n",
      "clean:  perfect worry hold type phone\n",
      "len 29\n",
      "\n",
      "5 ------------------------------\n",
      "raw:  6. Yep. That's perfect. And what about the is it sky or Spotify? You want tires it? Yes cuss words. Sports red x j i c. Here Okay, I own on the phone to me. Now you are and you have the Wi-Fi connected at the moment. Yes. Can you switch it off? Can you knock off the Wi-Fi on your phone?\n",
      "clean:  perfect sky spotify tire cuss sport red phone connected moment switch knock phone\n",
      "len 81\n",
      "\n",
      "6 ------------------------------\n",
      "raw:  you. Can you go to settings just you can put the code in speaker? Just go to just cuz you knock off white\n",
      "clean:  setting code speaker cuz knock white\n",
      "len 36\n",
      "\n",
      "7 ------------------------------\n",
      "raw:  you want to put this call on\n",
      "clean:  call\n",
      "len 4\n",
      "\n",
      "8 ------------------------------\n",
      "raw:  Okay. Now you need to press the middle button so you can go out, you know the home button at the\n",
      "clean:  press middle button button\n",
      "len 26\n",
      "\n",
      "9 ------------------------------\n",
      "raw:  discussions. Yes, ma'am settings. Yeah, and then off.\n",
      "clean:  discussion setting\n",
      "len 18\n",
      "\n",
      "10 ------------------------------\n",
      "raw:  right. What about that. Mobile data? Is it on at the\n",
      "clean:  mobile datum\n",
      "len 12\n",
      "\n",
      "11 ------------------------------\n",
      "raw:  cellular data on mobile\n",
      "clean:  cellular datum mobile\n",
      "len 21\n",
      "\n",
      "12 ------------------------------\n",
      "raw:  Can you try Safari for me, please? Can you try Googling anything on Safari?\n",
      "clean:  safari google safari\n",
      "len 20\n",
      "\n",
      "13 ------------------------------\n",
      "raw:  me just try anything on with the\n",
      "clean:  \n",
      "len 0\n",
      "\n",
      "14 ------------------------------\n",
      "raw:  ma'am. Okay. I'm just going to do some settings here. But on your side. Can you go to settings after we hang up we need to do this one more time? Okay, so go to settings. Yes ninja\n",
      "clean:  setting side setting hang time setting ninja\n",
      "len 44\n",
      "\n",
      "15 ------------------------------\n",
      "raw:  settings General and then go all the way\n",
      "clean:  setting general\n",
      "len 15\n",
      "\n",
      "16 ------------------------------\n",
      "raw:  to the very bottom do is reset\n",
      "clean:  bottom reset\n",
      "len 12\n",
      "\n",
      "17 ------------------------------\n",
      "raw:  option three reset network settings. Yeah. Now this one switch the phone off and on. I'm talking on automatically. Yeah, I don't enter password now enter password after okay, and then after it's back on completely back on try again, see how it goes off. The next step will be to uninstall reinstall the app that will be just another stage. Let's try this one first, see how it goes. Okay, and do you have access to your online accounts? So I asked this already? Yeah,\n",
      "clean:  option reset network setting switch phone talk automatically enter password enter password completely step uninstall reinstall app stage access online account ask\n",
      "len 162\n",
      "\n",
      "18 ------------------------------\n",
      "raw:  try that and see how it goes\n",
      "clean:  \n",
      "len 0\n",
      "\n",
      "19 ------------------------------\n",
      "raw:  Welcome to wonderful. Jack speaking. How may I help\n",
      "clean:  wonderful jack speak\n",
      "len 20\n",
      "\n",
      "20 ------------------------------\n",
      "raw:  again? I apologize. I don't really have your details. Can you give me the account number so I can see if\n",
      "clean:  apologize detail account number\n",
      "len 31\n",
      "\n",
      "21 ------------------------------\n",
      "raw:  thank you. Are you checking about the home broadband?\n",
      "clean:  check broadband\n",
      "len 15\n",
      "\n",
      "22 ------------------------------\n",
      "raw:  I'm sorry to hear that. Give me a\n",
      "clean:  hear\n",
      "len 4\n",
      "\n",
      "23 ------------------------------\n",
      "raw:  coverage. All right, in that case to be honest with you. I believe we need to consult a technical\n",
      "clean:  coverage case honest consult technical\n",
      "len 38\n",
      "\n",
      "24 ------------------------------\n",
      "raw:  Just a second. Okay, I mean appointment when you ask tech support, why are they putting you to customer care? They\n",
      "clean:  appointment tech support put customer care\n",
      "len 42\n",
      "\n",
      "25 ------------------------------\n",
      "raw:  anywhere. I do apologize. To be honest with you. I'm not sure exactly what the agent said. But let me talk to them first. I'm sure I\n",
      "clean:  apologize honest agent talk\n",
      "len 27\n",
      "\n",
      "26 ------------------------------\n",
      "raw:  this. I just I just want to understand one thing send referred to me. You said you are in the store right now?\n",
      "clean:  understand send referred store\n",
      "len 30\n",
      "\n",
      "27 ------------------------------\n",
      "raw:  Well, it's anybody at home\n",
      "clean:  \n",
      "len 0\n",
      "\n",
      "28 ------------------------------\n",
      "raw:  I apologize for the inconvenience. I just want to confirm our colleagues from tech support. I will be able to investigate with them. But I believe they will not be able to check exactly right now. What will we offer? What can we be able to do because you are not at home to troubleshoot with them\n",
      "clean:  apologize inconvenience confirm colleague tech support investigate check offer troubleshoot\n",
      "len 91\n",
      "\n",
      "29 ------------------------------\n",
      "raw:  stage. All right, I can call you back myself and put you through directly to tech support. It shouldn't be a problem for me.\n",
      "clean:  stage call directly tech support problem\n",
      "len 40\n",
      "\n",
      "30 ------------------------------\n",
      "raw:  That's what I'm on now. I just wanted to call it the details because I need to advise you my situation about your account. Can you confirm your address for me? If that's your fax number over here? The one I have on the account. Actually the account is under\n",
      "clean:  want call detail advise situation account confirm address fax number account account\n",
      "len 84\n",
      "\n",
      "31 ------------------------------\n",
      "raw:  now that is what I wanted to check with. You want number to be the main Communication number, right?\n",
      "clean:  want check number main communication number\n",
      "len 43\n",
      "\n",
      "32 ------------------------------\n",
      "raw:  I see. All right. I will call TJ mobile number this time, right?\n",
      "clean:  call mobile number time\n",
      "len 23\n",
      "\n",
      "33 ------------------------------\n",
      "raw:  Yeah, I have it. But to be honest with you, I will call you on your mobile because I need your landline clean. Okay?\n",
      "clean:  honest call mobile landline clean\n",
      "len 33\n",
      "\n",
      "34 ------------------------------\n",
      "raw:  right then and then the meantime leave that with me, I promise you search minutes. I will call. I will call you back. Okay? That's\n",
      "clean:  leave promise search minute call call\n",
      "len 37\n",
      "\n",
      "35 ------------------------------\n",
      "raw:  that to help. Is there anything else I can do for now?\n",
      "clean:  \n",
      "len 0\n",
      "\n",
      "36 ------------------------------\n",
      "raw:  Hi, how are you? I just inquiring there my credit ran out tonight wage. I have 8 gigabytes Edition. No, that's cool. Cuz I'm actually in work. I can't stop up the phone with me tomorrow morning.\n",
      "clean:  inquire credit tonight wage gigabyte edition cool work phone morning\n",
      "len 68\n",
      "\n",
      "37 ------------------------------\n",
      "raw:  Yeah, it's I normally gets a text. Tell me a few days prior to top off. I didn't get me at all this\n",
      "clean:  text day prior top\n",
      "len 18\n",
      "\n",
      "38 ------------------------------\n",
      "raw:  I do but I wouldn't think hold off my head now.\n",
      "clean:  hold head\n",
      "len 9\n",
      "\n",
      "39 ------------------------------\n",
      "raw:  No, I don't bother with the dog.\n",
      "clean:  bother dog\n",
      "len 10\n",
      "\n",
      "40 ------------------------------\n",
      "raw:  back. Yeah,\n",
      "clean:  \n",
      "len 0\n",
      "\n",
      "41 ------------------------------\n",
      "raw:  tomorrow. Yeah, but I don't really need the minutes, If you don't mind I can top up in the morning. I just don't want to lose. I had some data left over. I don't want to lose.\n",
      "clean:  minute mind top morning lose datum leave lose\n",
      "len 45\n",
      "\n",
      "42 ------------------------------\n",
      "raw:  I think there was something left over. I guess it's every every Twenty Eight\n",
      "clean:  leave guess\n",
      "len 11\n",
      "\n",
      "43 ------------------------------\n",
      "raw:  perfect. I do that in the morning soon as I'm actually in work now and I won't finish it off Thursday night something\n",
      "clean:  perfect morning work finish night\n",
      "len 33\n",
      "\n",
      "44 ------------------------------\n",
      "raw:  No, that's everything. Thank you.\n",
      "clean:  \n",
      "len 0\n",
      "\n",
      "45 ------------------------------\n",
      "raw:  Thank you.\n",
      "clean:  \n",
      "len 0\n",
      "\n",
      "No of empty strings:  7\n",
      "empty idx:  [13, 18, 27, 35, 40, 44, 45]\n"
     ]
    }
   ],
   "source": [
    "counter = 0\n",
    "empty_idx = []\n",
    "for idx , (raw, clean) in enumerate(zip(raw_data, clean_data)):\n",
    "    print(idx, \"---\"*10)\n",
    "    print(\"raw: \",raw)\n",
    "    clean_text = \" \".join(clean)\n",
    "    print(\"clean: \", clean_text )\n",
    "    print(\"len\", len(clean_text))\n",
    "    if len(clean_text) == 0:\n",
    "        counter = counter + 1\n",
    "        empty_idx.append(idx)\n",
    "    print()\n",
    "    \n",
    "print(\"No of empty strings: \", counter)\n",
    "print(\"empty idx: \", empty_idx)"
   ]
  },
  {
   "cell_type": "code",
   "execution_count": 211,
   "metadata": {},
   "outputs": [],
   "source": [
    "def bow_features_pipeline(tokenized_docs, dictionary):\n",
    "    text_bow_features = [dictionary.doc2bow(text) \n",
    "                              for text in tokenized_docs]\n",
    "    return text_bow_features\n",
    "\n",
    "norm_bow_features = bow_features_pipeline(tokenized_docs=clean_data, dictionary=dictionary)"
   ]
  },
  {
   "cell_type": "code",
   "execution_count": 206,
   "metadata": {},
   "outputs": [
    {
     "data": {
      "text/plain": [
       "40"
      ]
     },
     "execution_count": 206,
     "metadata": {},
     "output_type": "execute_result"
    }
   ],
   "source": [
    "len(norm_bow_features)"
   ]
  },
  {
   "cell_type": "code",
   "execution_count": 207,
   "metadata": {},
   "outputs": [
    {
     "data": {
      "text/plain": [
       "[]"
      ]
     },
     "execution_count": 207,
     "metadata": {},
     "output_type": "execute_result"
    }
   ],
   "source": [
    "norm_bow_features[-1]"
   ]
  },
  {
   "cell_type": "code",
   "execution_count": 199,
   "metadata": {},
   "outputs": [
    {
     "data": {
      "text/plain": [
       "['code', 'double', 'check', 'hold', 'average', 'payment']"
      ]
     },
     "execution_count": 199,
     "metadata": {},
     "output_type": "execute_result"
    }
   ],
   "source": [
    "clean_data[2]"
   ]
  },
  {
   "cell_type": "code",
   "execution_count": 132,
   "metadata": {},
   "outputs": [
    {
     "name": "stdout",
     "output_type": "stream",
     "text": [
      "[(206, 1), (257, 1), (596, 1), (1276, 1), (1457, 1), (1554, 1)]\n"
     ]
    }
   ],
   "source": [
    "print(norm_bow_features[2])"
   ]
  },
  {
   "cell_type": "code",
   "execution_count": 212,
   "metadata": {},
   "outputs": [
    {
     "data": {
      "text/html": [
       "<div>\n",
       "<style scoped>\n",
       "    .dataframe tbody tr th:only-of-type {\n",
       "        vertical-align: middle;\n",
       "    }\n",
       "\n",
       "    .dataframe tbody tr th {\n",
       "        vertical-align: top;\n",
       "    }\n",
       "\n",
       "    .dataframe thead th {\n",
       "        text-align: right;\n",
       "    }\n",
       "</style>\n",
       "<table border=\"1\" class=\"dataframe\">\n",
       "  <thead>\n",
       "    <tr style=\"text-align: right;\">\n",
       "      <th></th>\n",
       "      <th>Dominant_Topic</th>\n",
       "      <th>Perc_Contribution</th>\n",
       "      <th>Topic_Keywords</th>\n",
       "      <th>0</th>\n",
       "    </tr>\n",
       "  </thead>\n",
       "  <tbody>\n",
       "    <tr>\n",
       "      <th>0</th>\n",
       "      <td>0.0</td>\n",
       "      <td>0.0222</td>\n",
       "      <td>people, game, time, music, government, work, p...</td>\n",
       "      <td>Welcome to Vodafone, here speaking. May I get ...</td>\n",
       "    </tr>\n",
       "    <tr>\n",
       "      <th>1</th>\n",
       "      <td>0.0</td>\n",
       "      <td>0.0234</td>\n",
       "      <td>people, game, time, music, government, work, p...</td>\n",
       "      <td>it. What what is the error message you're gett...</td>\n",
       "    </tr>\n",
       "    <tr>\n",
       "      <th>2</th>\n",
       "      <td>0.0</td>\n",
       "      <td>0.1163</td>\n",
       "      <td>people, game, time, music, government, work, p...</td>\n",
       "      <td>code. Okay, let me just double-check. Hold on....</td>\n",
       "    </tr>\n",
       "    <tr>\n",
       "      <th>3</th>\n",
       "      <td>0.0</td>\n",
       "      <td>0.4380</td>\n",
       "      <td>people, game, time, music, government, work, p...</td>\n",
       "      <td>8080. No problem at all. Here is the PIN code ...</td>\n",
       "    </tr>\n",
       "    <tr>\n",
       "      <th>4</th>\n",
       "      <td>0.0</td>\n",
       "      <td>0.1513</td>\n",
       "      <td>people, game, time, music, government, work, p...</td>\n",
       "      <td>That's perfect. No worries at all. Hold on. Ju...</td>\n",
       "    </tr>\n",
       "    <tr>\n",
       "      <th>5</th>\n",
       "      <td>3.0</td>\n",
       "      <td>0.2016</td>\n",
       "      <td>song, music, award, vote, technology, british,...</td>\n",
       "      <td>6. Yep. That's perfect. And what about the is ...</td>\n",
       "    </tr>\n",
       "    <tr>\n",
       "      <th>6</th>\n",
       "      <td>0.0</td>\n",
       "      <td>0.0277</td>\n",
       "      <td>people, game, time, music, government, work, p...</td>\n",
       "      <td>you. Can you go to settings just you can put t...</td>\n",
       "    </tr>\n",
       "    <tr>\n",
       "      <th>7</th>\n",
       "      <td>0.0</td>\n",
       "      <td>0.0937</td>\n",
       "      <td>people, game, time, music, government, work, p...</td>\n",
       "      <td>you want to put this call on</td>\n",
       "    </tr>\n",
       "    <tr>\n",
       "      <th>8</th>\n",
       "      <td>0.0</td>\n",
       "      <td>0.0191</td>\n",
       "      <td>people, game, time, music, government, work, p...</td>\n",
       "      <td>Okay. Now you need to press the middle button ...</td>\n",
       "    </tr>\n",
       "    <tr>\n",
       "      <th>9</th>\n",
       "      <td>0.0</td>\n",
       "      <td>0.0060</td>\n",
       "      <td>people, game, time, music, government, work, p...</td>\n",
       "      <td>discussions. Yes, ma'am settings. Yeah, and th...</td>\n",
       "    </tr>\n",
       "    <tr>\n",
       "      <th>10</th>\n",
       "      <td>2.0</td>\n",
       "      <td>0.2022</td>\n",
       "      <td>music, song, game, government, labour, mobile,...</td>\n",
       "      <td>right. What about that. Mobile data? Is it on ...</td>\n",
       "    </tr>\n",
       "    <tr>\n",
       "      <th>11</th>\n",
       "      <td>2.0</td>\n",
       "      <td>0.2022</td>\n",
       "      <td>music, song, game, government, labour, mobile,...</td>\n",
       "      <td>cellular data on mobile</td>\n",
       "    </tr>\n",
       "    <tr>\n",
       "      <th>12</th>\n",
       "      <td>3.0</td>\n",
       "      <td>0.0111</td>\n",
       "      <td>song, music, award, vote, technology, british,...</td>\n",
       "      <td>Can you try Safari for me, please? Can you try...</td>\n",
       "    </tr>\n",
       "    <tr>\n",
       "      <th>13</th>\n",
       "      <td>0.0</td>\n",
       "      <td>0.2351</td>\n",
       "      <td>people, game, time, music, government, work, p...</td>\n",
       "      <td>me just try anything on with the</td>\n",
       "    </tr>\n",
       "    <tr>\n",
       "      <th>14</th>\n",
       "      <td>0.0</td>\n",
       "      <td>0.0162</td>\n",
       "      <td>people, game, time, music, government, work, p...</td>\n",
       "      <td>ma'am. Okay. I'm just going to do some setting...</td>\n",
       "    </tr>\n",
       "    <tr>\n",
       "      <th>15</th>\n",
       "      <td>0.0</td>\n",
       "      <td>0.0029</td>\n",
       "      <td>people, game, time, music, government, work, p...</td>\n",
       "      <td>settings General and then go all the way</td>\n",
       "    </tr>\n",
       "    <tr>\n",
       "      <th>16</th>\n",
       "      <td>0.0</td>\n",
       "      <td>0.3746</td>\n",
       "      <td>people, game, time, music, government, work, p...</td>\n",
       "      <td>to the very bottom do is reset</td>\n",
       "    </tr>\n",
       "    <tr>\n",
       "      <th>17</th>\n",
       "      <td>0.0</td>\n",
       "      <td>0.0274</td>\n",
       "      <td>people, game, time, music, government, work, p...</td>\n",
       "      <td>option three reset network settings. Yeah. Now...</td>\n",
       "    </tr>\n",
       "    <tr>\n",
       "      <th>18</th>\n",
       "      <td>0.0</td>\n",
       "      <td>0.1241</td>\n",
       "      <td>people, game, time, music, government, work, p...</td>\n",
       "      <td>try that and see how it goes</td>\n",
       "    </tr>\n",
       "    <tr>\n",
       "      <th>19</th>\n",
       "      <td>3.0</td>\n",
       "      <td>0.0705</td>\n",
       "      <td>song, music, award, vote, technology, british,...</td>\n",
       "      <td>Welcome to wonderful. Jack speaking. How may I...</td>\n",
       "    </tr>\n",
       "    <tr>\n",
       "      <th>20</th>\n",
       "      <td>2.0</td>\n",
       "      <td>0.0211</td>\n",
       "      <td>music, song, game, government, labour, mobile,...</td>\n",
       "      <td>again? I apologize. I don't really have your d...</td>\n",
       "    </tr>\n",
       "    <tr>\n",
       "      <th>21</th>\n",
       "      <td>0.0</td>\n",
       "      <td>0.0454</td>\n",
       "      <td>people, game, time, music, government, work, p...</td>\n",
       "      <td>thank you. Are you checking about the home bro...</td>\n",
       "    </tr>\n",
       "    <tr>\n",
       "      <th>22</th>\n",
       "      <td>0.0</td>\n",
       "      <td>0.1061</td>\n",
       "      <td>people, game, time, music, government, work, p...</td>\n",
       "      <td>I'm sorry to hear that. Give me a</td>\n",
       "    </tr>\n",
       "    <tr>\n",
       "      <th>23</th>\n",
       "      <td>0.0</td>\n",
       "      <td>0.0413</td>\n",
       "      <td>people, game, time, music, government, work, p...</td>\n",
       "      <td>coverage. All right, in that case to be honest...</td>\n",
       "    </tr>\n",
       "    <tr>\n",
       "      <th>24</th>\n",
       "      <td>0.0</td>\n",
       "      <td>0.0560</td>\n",
       "      <td>people, game, time, music, government, work, p...</td>\n",
       "      <td>Just a second. Okay, I mean appointment when y...</td>\n",
       "    </tr>\n",
       "    <tr>\n",
       "      <th>25</th>\n",
       "      <td>0.0</td>\n",
       "      <td>0.1410</td>\n",
       "      <td>people, game, time, music, government, work, p...</td>\n",
       "      <td>anywhere. I do apologize. To be honest with yo...</td>\n",
       "    </tr>\n",
       "    <tr>\n",
       "      <th>26</th>\n",
       "      <td>0.0</td>\n",
       "      <td>0.2144</td>\n",
       "      <td>people, game, time, music, government, work, p...</td>\n",
       "      <td>this. I just I just want to understand one thi...</td>\n",
       "    </tr>\n",
       "    <tr>\n",
       "      <th>27</th>\n",
       "      <td>0.0</td>\n",
       "      <td>0.3226</td>\n",
       "      <td>people, game, time, music, government, work, p...</td>\n",
       "      <td>Well, it's anybody at home</td>\n",
       "    </tr>\n",
       "    <tr>\n",
       "      <th>28</th>\n",
       "      <td>0.0</td>\n",
       "      <td>0.2378</td>\n",
       "      <td>people, game, time, music, government, work, p...</td>\n",
       "      <td>I apologize for the inconvenience. I just want...</td>\n",
       "    </tr>\n",
       "    <tr>\n",
       "      <th>29</th>\n",
       "      <td>0.0</td>\n",
       "      <td>0.4509</td>\n",
       "      <td>people, game, time, music, government, work, p...</td>\n",
       "      <td>stage. All right, I can call you back myself a...</td>\n",
       "    </tr>\n",
       "    <tr>\n",
       "      <th>30</th>\n",
       "      <td>2.0</td>\n",
       "      <td>0.1940</td>\n",
       "      <td>music, song, game, government, labour, mobile,...</td>\n",
       "      <td>That's what I'm on now. I just wanted to call ...</td>\n",
       "    </tr>\n",
       "    <tr>\n",
       "      <th>31</th>\n",
       "      <td>0.0</td>\n",
       "      <td>0.2960</td>\n",
       "      <td>people, game, time, music, government, work, p...</td>\n",
       "      <td>now that is what I wanted to check with. You w...</td>\n",
       "    </tr>\n",
       "    <tr>\n",
       "      <th>32</th>\n",
       "      <td>0.0</td>\n",
       "      <td>0.2371</td>\n",
       "      <td>people, game, time, music, government, work, p...</td>\n",
       "      <td>I see. All right. I will call TJ mobile number...</td>\n",
       "    </tr>\n",
       "    <tr>\n",
       "      <th>33</th>\n",
       "      <td>0.0</td>\n",
       "      <td>0.1455</td>\n",
       "      <td>people, game, time, music, government, work, p...</td>\n",
       "      <td>Yeah, I have it. But to be honest with you, I ...</td>\n",
       "    </tr>\n",
       "    <tr>\n",
       "      <th>34</th>\n",
       "      <td>0.0</td>\n",
       "      <td>0.0832</td>\n",
       "      <td>people, game, time, music, government, work, p...</td>\n",
       "      <td>right then and then the meantime leave that wi...</td>\n",
       "    </tr>\n",
       "    <tr>\n",
       "      <th>35</th>\n",
       "      <td>0.0</td>\n",
       "      <td>0.0035</td>\n",
       "      <td>people, game, time, music, government, work, p...</td>\n",
       "      <td>that to help. Is there anything else I can do ...</td>\n",
       "    </tr>\n",
       "    <tr>\n",
       "      <th>36</th>\n",
       "      <td>0.0</td>\n",
       "      <td>0.2604</td>\n",
       "      <td>people, game, time, music, government, work, p...</td>\n",
       "      <td>Hi, how are you? I just inquiring there my cre...</td>\n",
       "    </tr>\n",
       "    <tr>\n",
       "      <th>37</th>\n",
       "      <td>0.0</td>\n",
       "      <td>0.0455</td>\n",
       "      <td>people, game, time, music, government, work, p...</td>\n",
       "      <td>Yeah, it's I normally gets a text. Tell me a f...</td>\n",
       "    </tr>\n",
       "    <tr>\n",
       "      <th>38</th>\n",
       "      <td>0.0</td>\n",
       "      <td>0.1754</td>\n",
       "      <td>people, game, time, music, government, work, p...</td>\n",
       "      <td>I do but I wouldn't think hold off my head now.</td>\n",
       "    </tr>\n",
       "    <tr>\n",
       "      <th>39</th>\n",
       "      <td>NaN</td>\n",
       "      <td>NaN</td>\n",
       "      <td>NaN</td>\n",
       "      <td>No, I don't bother with the dog.</td>\n",
       "    </tr>\n",
       "    <tr>\n",
       "      <th>40</th>\n",
       "      <td>NaN</td>\n",
       "      <td>NaN</td>\n",
       "      <td>NaN</td>\n",
       "      <td>back. Yeah,</td>\n",
       "    </tr>\n",
       "    <tr>\n",
       "      <th>41</th>\n",
       "      <td>NaN</td>\n",
       "      <td>NaN</td>\n",
       "      <td>NaN</td>\n",
       "      <td>tomorrow. Yeah, but I don't really need the mi...</td>\n",
       "    </tr>\n",
       "    <tr>\n",
       "      <th>42</th>\n",
       "      <td>NaN</td>\n",
       "      <td>NaN</td>\n",
       "      <td>NaN</td>\n",
       "      <td>I think there was something left over. I guess...</td>\n",
       "    </tr>\n",
       "    <tr>\n",
       "      <th>43</th>\n",
       "      <td>NaN</td>\n",
       "      <td>NaN</td>\n",
       "      <td>NaN</td>\n",
       "      <td>perfect. I do that in the morning soon as I'm ...</td>\n",
       "    </tr>\n",
       "    <tr>\n",
       "      <th>44</th>\n",
       "      <td>NaN</td>\n",
       "      <td>NaN</td>\n",
       "      <td>NaN</td>\n",
       "      <td>No, that's everything. Thank you.</td>\n",
       "    </tr>\n",
       "  </tbody>\n",
       "</table>\n",
       "</div>"
      ],
      "text/plain": [
       "    Dominant_Topic  Perc_Contribution  \\\n",
       "0              0.0             0.0222   \n",
       "1              0.0             0.0234   \n",
       "2              0.0             0.1163   \n",
       "3              0.0             0.4380   \n",
       "4              0.0             0.1513   \n",
       "5              3.0             0.2016   \n",
       "6              0.0             0.0277   \n",
       "7              0.0             0.0937   \n",
       "8              0.0             0.0191   \n",
       "9              0.0             0.0060   \n",
       "10             2.0             0.2022   \n",
       "11             2.0             0.2022   \n",
       "12             3.0             0.0111   \n",
       "13             0.0             0.2351   \n",
       "14             0.0             0.0162   \n",
       "15             0.0             0.0029   \n",
       "16             0.0             0.3746   \n",
       "17             0.0             0.0274   \n",
       "18             0.0             0.1241   \n",
       "19             3.0             0.0705   \n",
       "20             2.0             0.0211   \n",
       "21             0.0             0.0454   \n",
       "22             0.0             0.1061   \n",
       "23             0.0             0.0413   \n",
       "24             0.0             0.0560   \n",
       "25             0.0             0.1410   \n",
       "26             0.0             0.2144   \n",
       "27             0.0             0.3226   \n",
       "28             0.0             0.2378   \n",
       "29             0.0             0.4509   \n",
       "30             2.0             0.1940   \n",
       "31             0.0             0.2960   \n",
       "32             0.0             0.2371   \n",
       "33             0.0             0.1455   \n",
       "34             0.0             0.0832   \n",
       "35             0.0             0.0035   \n",
       "36             0.0             0.2604   \n",
       "37             0.0             0.0455   \n",
       "38             0.0             0.1754   \n",
       "39             NaN                NaN   \n",
       "40             NaN                NaN   \n",
       "41             NaN                NaN   \n",
       "42             NaN                NaN   \n",
       "43             NaN                NaN   \n",
       "44             NaN                NaN   \n",
       "\n",
       "                                       Topic_Keywords  \\\n",
       "0   people, game, time, music, government, work, p...   \n",
       "1   people, game, time, music, government, work, p...   \n",
       "2   people, game, time, music, government, work, p...   \n",
       "3   people, game, time, music, government, work, p...   \n",
       "4   people, game, time, music, government, work, p...   \n",
       "5   song, music, award, vote, technology, british,...   \n",
       "6   people, game, time, music, government, work, p...   \n",
       "7   people, game, time, music, government, work, p...   \n",
       "8   people, game, time, music, government, work, p...   \n",
       "9   people, game, time, music, government, work, p...   \n",
       "10  music, song, game, government, labour, mobile,...   \n",
       "11  music, song, game, government, labour, mobile,...   \n",
       "12  song, music, award, vote, technology, british,...   \n",
       "13  people, game, time, music, government, work, p...   \n",
       "14  people, game, time, music, government, work, p...   \n",
       "15  people, game, time, music, government, work, p...   \n",
       "16  people, game, time, music, government, work, p...   \n",
       "17  people, game, time, music, government, work, p...   \n",
       "18  people, game, time, music, government, work, p...   \n",
       "19  song, music, award, vote, technology, british,...   \n",
       "20  music, song, game, government, labour, mobile,...   \n",
       "21  people, game, time, music, government, work, p...   \n",
       "22  people, game, time, music, government, work, p...   \n",
       "23  people, game, time, music, government, work, p...   \n",
       "24  people, game, time, music, government, work, p...   \n",
       "25  people, game, time, music, government, work, p...   \n",
       "26  people, game, time, music, government, work, p...   \n",
       "27  people, game, time, music, government, work, p...   \n",
       "28  people, game, time, music, government, work, p...   \n",
       "29  people, game, time, music, government, work, p...   \n",
       "30  music, song, game, government, labour, mobile,...   \n",
       "31  people, game, time, music, government, work, p...   \n",
       "32  people, game, time, music, government, work, p...   \n",
       "33  people, game, time, music, government, work, p...   \n",
       "34  people, game, time, music, government, work, p...   \n",
       "35  people, game, time, music, government, work, p...   \n",
       "36  people, game, time, music, government, work, p...   \n",
       "37  people, game, time, music, government, work, p...   \n",
       "38  people, game, time, music, government, work, p...   \n",
       "39                                                NaN   \n",
       "40                                                NaN   \n",
       "41                                                NaN   \n",
       "42                                                NaN   \n",
       "43                                                NaN   \n",
       "44                                                NaN   \n",
       "\n",
       "                                                    0  \n",
       "0   Welcome to Vodafone, here speaking. May I get ...  \n",
       "1   it. What what is the error message you're gett...  \n",
       "2   code. Okay, let me just double-check. Hold on....  \n",
       "3   8080. No problem at all. Here is the PIN code ...  \n",
       "4   That's perfect. No worries at all. Hold on. Ju...  \n",
       "5   6. Yep. That's perfect. And what about the is ...  \n",
       "6   you. Can you go to settings just you can put t...  \n",
       "7                        you want to put this call on  \n",
       "8   Okay. Now you need to press the middle button ...  \n",
       "9   discussions. Yes, ma'am settings. Yeah, and th...  \n",
       "10  right. What about that. Mobile data? Is it on ...  \n",
       "11                            cellular data on mobile  \n",
       "12  Can you try Safari for me, please? Can you try...  \n",
       "13                   me just try anything on with the  \n",
       "14  ma'am. Okay. I'm just going to do some setting...  \n",
       "15           settings General and then go all the way  \n",
       "16                     to the very bottom do is reset  \n",
       "17  option three reset network settings. Yeah. Now...  \n",
       "18                       try that and see how it goes  \n",
       "19  Welcome to wonderful. Jack speaking. How may I...  \n",
       "20  again? I apologize. I don't really have your d...  \n",
       "21  thank you. Are you checking about the home bro...  \n",
       "22                  I'm sorry to hear that. Give me a  \n",
       "23  coverage. All right, in that case to be honest...  \n",
       "24  Just a second. Okay, I mean appointment when y...  \n",
       "25  anywhere. I do apologize. To be honest with yo...  \n",
       "26  this. I just I just want to understand one thi...  \n",
       "27                         Well, it's anybody at home  \n",
       "28  I apologize for the inconvenience. I just want...  \n",
       "29  stage. All right, I can call you back myself a...  \n",
       "30  That's what I'm on now. I just wanted to call ...  \n",
       "31  now that is what I wanted to check with. You w...  \n",
       "32  I see. All right. I will call TJ mobile number...  \n",
       "33  Yeah, I have it. But to be honest with you, I ...  \n",
       "34  right then and then the meantime leave that wi...  \n",
       "35  that to help. Is there anything else I can do ...  \n",
       "36  Hi, how are you? I just inquiring there my cre...  \n",
       "37  Yeah, it's I normally gets a text. Tell me a f...  \n",
       "38    I do but I wouldn't think hold off my head now.  \n",
       "39                   No, I don't bother with the dog.  \n",
       "40                                        back. Yeah,  \n",
       "41  tomorrow. Yeah, but I don't really need the mi...  \n",
       "42  I think there was something left over. I guess...  \n",
       "43  perfect. I do that in the morning soon as I'm ...  \n",
       "44                  No, that's everything. Thank you.  "
      ]
     },
     "execution_count": 212,
     "metadata": {},
     "output_type": "execute_result"
    }
   ],
   "source": [
    "df_topic_sents_keywords_test = format_topics_sentences(ldamodel=optimal_model, corpus=norm_bow_features, texts=raw_data)\n",
    "df_topic_sents_keywords_test.head(45)"
   ]
  },
  {
   "cell_type": "code",
   "execution_count": 202,
   "metadata": {},
   "outputs": [
    {
     "data": {
      "text/plain": [
       "0.0    32\n",
       "2.0     4\n",
       "3.0     3\n",
       "Name: Dominant_Topic, dtype: int64"
      ]
     },
     "execution_count": 202,
     "metadata": {},
     "output_type": "execute_result"
    }
   ],
   "source": [
    "df_topic_sents_keywords_test[\"Dominant_Topic\"].value_counts()"
   ]
  },
  {
   "cell_type": "code",
   "execution_count": 204,
   "metadata": {},
   "outputs": [
    {
     "name": "stdout",
     "output_type": "stream",
     "text": [
      "me just try anything on with the\n",
      "try that and see how it goes\n",
      "Well, it's anybody at home\n",
      "that to help. Is there anything else I can do for now?\n",
      "back. Yeah,\n",
      "No, that's everything. Thank you.\n"
     ]
    }
   ],
   "source": [
    "for i in empty_raw:\n",
    "    print(i)"
   ]
  },
  {
   "cell_type": "markdown",
   "metadata": {},
   "source": [
    "# -- "
   ]
  },
  {
   "cell_type": "code",
   "execution_count": null,
   "metadata": {},
   "outputs": [],
   "source": []
  },
  {
   "cell_type": "code",
   "execution_count": null,
   "metadata": {},
   "outputs": [],
   "source": []
  },
  {
   "cell_type": "code",
   "execution_count": 119,
   "metadata": {},
   "outputs": [],
   "source": [
    "def get_topic_predictions(topic_model, corpus, topn=3):\n",
    "    topic_predictions = topic_model[corpus]\n",
    "    best_topics = [[(topic, round(wt, 3)) \n",
    "                        for topic, wt in sorted(topic_predictions[i], \n",
    "                                                key=lambda row: -row[1])[:topn]] \n",
    "                            for i in range(len(topic_predictions))]\n",
    "    return best_topics"
   ]
  },
  {
   "cell_type": "code",
   "execution_count": null,
   "metadata": {},
   "outputs": [],
   "source": []
  },
  {
   "cell_type": "code",
   "execution_count": 120,
   "metadata": {},
   "outputs": [
    {
     "data": {
      "text/plain": [
       "[[(0, 0.022), (1, 0.011)],\n",
       " [(0, 0.023), (3, 0.021)],\n",
       " [(0, 0.116), (3, 0.039)],\n",
       " [(0, 0.438), (3, 0.214)],\n",
       " [(0, 0.151), (3, 0.101)],\n",
       " [(3, 0.202), (0, 0.18)],\n",
       " [(0, 0.028), (4, 0.02)],\n",
       " [(0, 0.094), (1, 0.043)],\n",
       " [(0, 0.019), (4, 0.006)],\n",
       " [(0, 0.006), (4, 0.004)],\n",
       " [(2, 0.202), (3, 0.196)],\n",
       " [(2, 0.202), (3, 0.196)],\n",
       " [(3, 0.011), (2, 0.008)],\n",
       " [],\n",
       " [(0, 0.235), (4, 0.015)],\n",
       " [(0, 0.016), (4, 0.006)],\n",
       " [(0, 0.003), (4, 0.001)],\n",
       " [(0, 0.375), (3, 0.338)],\n",
       " [],\n",
       " [(0, 0.027), (4, 0.017)],\n",
       " [(0, 0.124), (3, 0.067)],\n",
       " [(3, 0.07), (2, 0.055)],\n",
       " [(2, 0.021), (0, 0.018)],\n",
       " [(0, 0.045), (1, 0.029)],\n",
       " [(0, 0.106), (1, 0.062)],\n",
       " [(0, 0.041), (4, 0.035)],\n",
       " [(0, 0.056), (3, 0.039)],\n",
       " [],\n",
       " [(0, 0.141), (4, 0.059)],\n",
       " [(0, 0.214), (4, 0.072)],\n",
       " [(0, 0.323), (3, 0.099)],\n",
       " [(0, 0.238), (3, 0.107)],\n",
       " [(0, 0.451), (3, 0.201)],\n",
       " [(2, 0.194), (0, 0.177)],\n",
       " [(0, 0.296), (4, 0.092)],\n",
       " [],\n",
       " [(0, 0.237), (3, 0.134)],\n",
       " [(0, 0.145), (4, 0.001)],\n",
       " [(0, 0.083), (4, 0.021)],\n",
       " [(0, 0.004), (4, 0.002)],\n",
       " [],\n",
       " [(0, 0.26), (4, 0.072)],\n",
       " [(0, 0.046), (4, 0.027)],\n",
       " [(0, 0.175), (3, 0.035)],\n",
       " [],\n",
       " []]"
      ]
     },
     "execution_count": 120,
     "metadata": {},
     "output_type": "execute_result"
    }
   ],
   "source": [
    "topic_preds = get_topic_predictions(topic_model=optimal_model, \n",
    "                                    corpus=norm_bow_features, topn=2)\n",
    "topic_preds"
   ]
  }
 ],
 "metadata": {
  "kernelspec": {
   "display_name": "Python 3",
   "language": "python",
   "name": "python3"
  },
  "language_info": {
   "codemirror_mode": {
    "name": "ipython",
    "version": 3
   },
   "file_extension": ".py",
   "mimetype": "text/x-python",
   "name": "python",
   "nbconvert_exporter": "python",
   "pygments_lexer": "ipython3",
   "version": "3.7.6"
  }
 },
 "nbformat": 4,
 "nbformat_minor": 2
}
